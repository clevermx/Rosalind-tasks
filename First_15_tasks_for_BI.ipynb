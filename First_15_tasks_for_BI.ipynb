{
 "cells": [
  {
   "cell_type": "markdown",
   "metadata": {},
   "source": [
    "Counting DNA Nucleotides\n",
    "\n",
    "Problem\n",
    "\n",
    "A string is simply an ordered collection of symbols selected from some alphabet and formed into a word; the length of a string is the number of symbols that it contains.\n",
    "\n",
    "An example of a length 21 DNA string (whose alphabet contains the symbols 'A', 'C', 'G', and 'T') is \"ATGCTTCAGAAAGGTCTTACG.\"\n",
    "\n",
    "Given: A DNA string s of length at most 1000 nt.\n",
    "\n",
    "Return: Four integers (separated by spaces) counting the respective number of times that the symbols 'A', 'C', 'G', and 'T' occur in s."
   ]
  },
  {
   "cell_type": "code",
   "execution_count": 30,
   "metadata": {},
   "outputs": [
    {
     "name": "stdout",
     "output_type": "stream",
     "text": [
      "234 245 222 242\n"
     ]
    }
   ],
   "source": [
    "import sys\n",
    "f= open('D://datasets/rosalind_dna(2).txt')\n",
    "s=f.read().lower()\n",
    "stream= sys.stdout\n",
    "res =\" \".join([str(s.count(a)) for a in ['a','c','g','t']])\n",
    "print(res,file=stream)"
   ]
  },
  {
   "cell_type": "markdown",
   "metadata": {},
   "source": [
    "Transcribing DNA into RNA\n",
    "Problem\n",
    "\n",
    "An RNA string is a string formed from the alphabet containing 'A', 'C', 'G', and 'U'.\n",
    "\n",
    "Given a DNA string t corresponding to a coding strand, its transcribed RNA string u is formed by replacing all occurrences of 'T' in t with 'U' in u.\n",
    "\n",
    "Given: A DNA string t having length at most 1000 nt.\n",
    "\n",
    "Return: The transcribed RNA string of t.\n",
    "\n",
    "Sample Dataset\n",
    "GATGGAACTTGACTACGTAAATT\n",
    "Sample Output\n",
    "GAUGGAACUUGACUACGUAAAUU\n"
   ]
  },
  {
   "cell_type": "code",
   "execution_count": 29,
   "metadata": {},
   "outputs": [
    {
     "name": "stdout",
     "output_type": "stream",
     "text": [
      "CUGCAUCUGGCGUGAGGAGACCCUAGUAUUCGACCGAGUUAAGAUGACUCUGUCACUAUGGGGCAUGUUAGAGCAGGGAUACUGCUAUCCGACGAUCGGACCAACGGUUUGGCAGGCAGCUCCGUGGGAUCUAGGAGUAGAAUUCCGAGACUUCUCCCAAGAAUUACUGCGCACAUCGGUAGCUGGGGGACGGAUGAACGACUGUUCUAUUUGUUGAAUGCAGUGUAACGAGGUGUAUAUCGUUGAUGCGACCUCGUUCGAGUAGGCGGUAGAGGUGGAUAGUCAAGGCGAAUUCAGCCCAAGAGGGUAACCGAGUUUCCGCUCUUAAUUUGAAUUCGACGAUACCGGCAAGUACACGGUAAGAAACGAAGCGCUCUAACGGGAUGGGCUUAGCGCUGGCUGUCUAGGCCAUCAAAGUAAAACGCGCCACCUGAUAGAGAUAAGAGAUACCAACAACCAAGAACAGCGGACACUUUGCGGUUCGGCUGUGAGCUGGAUGCGAAGGUAUUAAAGGUUCGCGCCAUUGUUAAGUUCCUUCUCCUGAUUUAAAGGCGAUCAACUGCCUGUCAAUUUCGUUACCGCUCAGUGCAGAGUUAGCACGCCAGAUUGGUGUGCCAAAUGCAUGGAAAUUAACGGCUCUAGUGGGUUAGCGGGUUCGGACAUACCUCGCGAGUUACUCGGUAUCCUAAGCCUGCUGUUUUCAACCCCAUGAAGUCUUUGCACAUCCCGCUAAUCGUGCUGCUAAAUUCUAAAUAUCUCCUGUGAUUAGUUCGGCGGAGUAGUCCUCCACAGAACGGCUGUCUGUUUAGGACAAUCUGGGCGGUUAGUCUUAGGUUCCUAGUAGUUGAAGCCGUGCGAUGAUCUCAUCUUCAGGGCCAGGAGGUGCGAUCGGACUCCUCUCUCAUUAGAGACCCAAGCUACUUGGAAACCCCGACUGUAGAGCCC\n",
      "\n"
     ]
    }
   ],
   "source": [
    "import sys\n",
    "f= open('D://datasets/rosalind_rna.txt')\n",
    "s=f.read()\n",
    "stream= sys.stdout\n",
    "print(s.replace('T','U'),file=stream)"
   ]
  },
  {
   "cell_type": "markdown",
   "metadata": {},
   "source": [
    "Complementing a Strand of DNA \n",
    "\n",
    "Problem\n",
    "\n",
    "In DNA strings, symbols 'A' and 'T' are complements of each other, as are 'C' and 'G'.\n",
    "\n",
    "The reverse complement of a DNA string s is the string sc formed by reversing the symbols of s, then taking the complement of each symbol (e.g., the reverse complement of \"GTCA\" is \"TGAC\").\n",
    "\n",
    "Given: A DNA string s of length at most 1000 bp.\n",
    "\n",
    "Return: The reverse complement scof s.\n",
    "\n",
    "Sample Dataset\n",
    "AAAACCCGGT\n",
    "\n",
    "Sample Output\n",
    "ACCGGGTTTT\n"
   ]
  },
  {
   "cell_type": "code",
   "execution_count": 34,
   "metadata": {},
   "outputs": [
    {
     "name": "stdout",
     "output_type": "stream",
     "text": [
      "\n",
      "CCGACGACAGCCCTAGCGGACGAAACACCGCAAAGGATAGCAGAAACTATTTGGTATAGGGAATACGCCGTCCAGTAGTGATAGCTCAGGTGTTCGAACGTAGATCTGGGCATGTCCATCCGCCAGTGCTAACTGTCGGTGAATTTGTCAGTACCGCGGTTGCTACCGTATCTTGATATGCCCTGTCACCGATGCTTAAGTCTTTGAGTATTTCCCTTTTGACGAACATTCAGTATCATCTGTTATATGGCGTCTACATATTCGAGAACGGAGTCATGACCCTTGACCGGGAATCTTGCTGACATGCGATCTCTATATGCTACTCCGGCCTACTGGTGCTTGGTTAGCGGAACCACTCTTTACCGACTGGTGTGAGAAATCAGGGGATAAGTGTTAAAGGCTCCCTATTTGGGGCCTACGCGCGGAAGAGCTGCACTCCTCCCAATACAAGGCGATCACGTCAAGGAGGGGCATATTCACGGTCCAGCAAGTGCAATGAACAACTAATTTTACGTGCCAGGATTTAGGATCTCCAATCCATTTCCGGCCGCCCCCATTTCGGTATCTGCGGGTCATGTTTACTTGACTGCCGAATAATCTGAACCCGAACGCGTACTGTCACTGGGCCCGCTGTTAATATCCCCGATAAAGACGGGAGTGGATTAAACCCTTAGGTCGCGCTCTTTACCCTTGTTAACCGATGGGTCAAGGTCCGGCGTTGGAATTGCGTCCAGGAAATTAACTATTCAGACCCAAAGAGAGAAGGTGTCTGATAGGCGTAAATGCCAGTCACTATACCACGACATTGCATGCACGTGCCGGTTTTGACAAGATCATACGGACCGCAAAATAACACTA\n"
     ]
    }
   ],
   "source": [
    "import sys\n",
    "f= open('D://datasets/rosalind_revc.txt')\n",
    "s=f.read()\n",
    "stream= sys.stdout\n",
    "s=s[::-1]\n",
    "s_a_t=s.replace('A','*').replace('T','A').replace('*','T')\n",
    "s_c_g=s_a_t.replace('C','*').replace('G','C').replace('*','G')\n",
    "#s[::-1].translate(str.maketrans('ATCG','TACG'))\n",
    "print(s_c_g,file=stream)"
   ]
  },
  {
   "cell_type": "markdown",
   "metadata": {},
   "source": [
    "Rabbits and Recurrence Relations\n",
    "Problem\n",
    "\n",
    "A sequence is an ordered collection of objects (usually numbers), which are allowed to repeat. Sequences can be finite or infinite. Two examples are the finite sequence (π,−2–√,0,π) and the infinite sequence of odd numbers (1,3,5,7,9,…). We use the notation an to represent the n-th term of a sequence.\n",
    "\n",
    "A recurrence relation is a way of defining the terms of a sequence with respect to the values of previous terms. In the case of Fibonacci's rabbits from the introduction, any given month will contain the rabbits that were alive the previous month, plus any new offspring. A key observation is that the number of offspring in any month is equal to the number of rabbits that were alive two months prior. As a result, if Fn represents the number of rabbit pairs alive after the n-th month, then we obtain the Fibonacci sequence having terms Fn that are defined by the recurrence relation Fn=Fn−1+Fn−2 (with F1=F2=1 to initiate the sequence). Although the sequence bears Fibonacci's name, it was known to Indian mathematicians over two millennia ago.\n",
    "\n",
    "When finding the n-th term of a sequence defined by a recurrence relation, we can simply use the recurrence relation to generate terms for progressively larger values of n. \n",
    "This problem introduces us to the computational technique of dynamic programming, which successively builds up solutions by using the answers to smaller cases.\n",
    "\n",
    "Given: Positive integers n≤40 and k≤5.\n",
    "\n",
    "Return: The total number of rabbit pairs that will be present after n months, if we begin with 1 pair and in each generation, every pair of reproduction-age rabbits produces a litter of k rabbit pairs (instead of only 1 pair).\n",
    "\n",
    "Sample Dataset\n",
    "5 3\n",
    "\n",
    "Sample Output\n",
    "19\n"
   ]
  },
  {
   "cell_type": "code",
   "execution_count": 58,
   "metadata": {},
   "outputs": [
    {
     "name": "stdout",
     "output_type": "stream",
     "text": [
      "2863396842201\n"
     ]
    }
   ],
   "source": [
    "import sys\n",
    "f= open('D://datasets/rosalind_fib.txt')\n",
    "s=f.read()\n",
    "stream= sys.stdout\n",
    "n,k=list(map(int,s.split(\" \")))\n",
    "mol=1\n",
    "zrel=1\n",
    "res=1\n",
    "if (n>2):\n",
    "    for i in range(3,n+1):\n",
    "        offspring = zrel*k\n",
    "        zrel=res\n",
    "        res=zrel+offspring\n",
    "print(res,file=stream)"
   ]
  },
  {
   "cell_type": "markdown",
   "metadata": {},
   "source": [
    "Computing GC Content \n",
    "\n",
    "Problem\n",
    "\n",
    "The GC-content of a DNA string is given by the percentage of symbols in the string that are 'C' or 'G'. For example, the GC-content of \"AGCTATAG\" is 37.5%. Note that the reverse complement of any DNA string has the same GC-content.\n",
    "\n",
    "DNA strings must be labeled when they are consolidated into a database. A commonly used method of string labeling is called FASTA format. In this format, the string is introduced by a line that begins with '>', followed by some labeling information. Subsequent lines contain the string itself; the first line to begin with '>' indicates the label of the next string.\n",
    "\n",
    "In Rosalind's implementation, a string in FASTA format will be labeled by the ID \"Rosalind_xxxx\", where \"xxxx\" denotes a four-digit code between 0000 and 9999.\n",
    "\n",
    "Given: At most 10 DNA strings in FASTA format (of length at most 1 kbp each).\n",
    "\n",
    "Return: The ID of the string having the highest GC-content, followed by the GC-content of that string. Rosalind allows for a default error of 0.001 in all decimal answers unless otherwise stated; please see the note on absolute error below.\n",
    "Sample Dataset\n",
    "\n",
    ">Rosalind_6404\n",
    "CCTGCGGAAGATCGGCACTAGAATAGCCAGAACCGTTTCTCTGAGGCTTCCGGCCTTCCC\n",
    "TCCCACTAATAATTCTGAGG\n",
    ">Rosalind_5959\n",
    "CCATCGGTAGCGCATCCTTAGTCCAATTAAGTCCCTATCCAGGCGCTCCGCCGAAGGTCT\n",
    "ATATCCATTTGTCAGCAGACACGC\n",
    ">Rosalind_0808\n",
    "CCACCCTCGTGGTATGGCTAGGCATTCAGGAACCGGAGAACGCTTCAGACCAGCCCGGAC\n",
    "TGGGAACCTGCGGGCAGTAGGTGGAAT\n",
    "\n",
    "Sample Output\n",
    "\n",
    "Rosalind_0808\n",
    "60.919540\n"
   ]
  },
  {
   "cell_type": "code",
   "execution_count": 85,
   "metadata": {},
   "outputs": [
    {
     "name": "stdout",
     "output_type": "stream",
     "text": [
      "Rosalind_1537\n",
      "51.16751269035533\n"
     ]
    }
   ],
   "source": [
    "import sys\n",
    "f= open('D://datasets/rosalind_gc(1).txt')\n",
    "s=f.read()\n",
    "stream= sys.stdout\n",
    "maxGC=0\n",
    "max_title=\"\"\n",
    "for line in s.strip().split(\">\")[1::]:\n",
    "    title,gene = (line[0:len('Rosalind_6404')],line[len('Rosalind_6404')+1::].replace(\"\\n\",\"\"))\n",
    "    t=((gene.count('C')+gene.count('G'))*100)/ len(gene)\n",
    "    if t>maxGC:\n",
    "        maxGC=t\n",
    "        max_title=title\n",
    "print(max_title)\n",
    "print(maxGC)"
   ]
  },
  {
   "cell_type": "markdown",
   "metadata": {},
   "source": [
    "Counting Point Mutations\n",
    "Problem\n",
    "\n",
    "Given two strings s and t of equal length, the Hamming distance between s and t, denoted dH(s,t), is the number of corresponding symbols that differ in s and t. \n",
    "\n",
    "Given: Two DNA strings s and t of equal length (not exceeding 1 kbp).\n",
    "\n",
    "Return: The Hamming distance dH(s,t).\n",
    "Sample Dataset\n",
    ">GAGCCTACTAACGGGAT\n",
    "\n",
    ">CATCGTAATGACGGCCT\n",
    "\n",
    "Sample Output\n",
    ">7\n"
   ]
  },
  {
   "cell_type": "code",
   "execution_count": 102,
   "metadata": {},
   "outputs": [
    {
     "name": "stdout",
     "output_type": "stream",
     "text": [
      "473\n"
     ]
    }
   ],
   "source": [
    "import sys\n",
    "f= open('D://datasets/rosalind_hamm.txt')\n",
    "s=f.read()\n",
    "stream= sys.stdout\n",
    "maxGC=0\n",
    "lines =s.strip().split()\n",
    "res=sum([(lines[0][i]!=lines[1][i] )for i in range(0,len(lines[0]))])\n",
    "print(res)"
   ]
  },
  {
   "cell_type": "markdown",
   "metadata": {},
   "source": [
    "Mendel's First Law\n",
    "Problem\n",
    "\n",
    "Probability is the mathematical study of randomly occurring phenomena. We will model such a phenomenon with a random variable, which is simply a variable that can take a number of different distinct outcomes depending on the result of an underlying random process.\n",
    "\n",
    "For example, say that we have a bag containing 3 red balls and 2 blue balls. If we let X\n",
    "represent the random variable corresponding to the color of a drawn ball, then the probability of each of the two outcomes is given by Pr(X=red)=35 and Pr(X=blue)=25.\n",
    "\n",
    "Random variables can be combined to yield new random variables. Returning to the ball example, let Y\n",
    "model the color of a second ball drawn from the bag (without replacing the first ball). The probability of Y being red depends on whether the first ball was red or blue. To represent all outcomes of X and Y, we therefore use a probability tree diagram. This branching diagram represents all possible individual probabilities for X and Y, with outcomes at the endpoints (\"leaves\") of the tree. The probability of any outcome is given by the product of probabilities along the path from the beginning of the tree; see Figure 2 for an illustrative example.\n",
    "\n",
    "An event is simply a collection of outcomes. Because outcomes are distinct, the probability of an event can be written as the sum of the probabilities of its constituent outcomes. For our colored ball example, let A be the event \"Y is blue.\" Pr(A) is equal to the sum of the probabilities of two different outcomes: Pr(X=blue and Y=blue)+Pr(X=red and Y=blue), or 310+110=25\n",
    "Given: Three positive integers k, m, and n, representing a population containing k+m+n organisms: k individuals are homozygous dominant for a factor, m are heterozygous, and n are homozygous recessive.\n",
    "Return: The probability that two randomly selected mating organisms will produce an individual possessing a dominant allele (and thus displaying the dominant phenotype). Assume that any two organisms can mate.\n",
    "\n",
    "Sample Dataset\n",
    ">2 2 2\n",
    "\n",
    "Sample Output\n",
    ">0.78333\n"
   ]
  },
  {
   "cell_type": "code",
   "execution_count": 17,
   "metadata": {},
   "outputs": [
    {
     "name": "stdout",
     "output_type": "stream",
     "text": [
      "0.7759176587301587\n"
     ]
    }
   ],
   "source": [
    "import sys\n",
    "f= open('D://datasets/rosalind_iprb(1).txt')\n",
    "s=f.read()\n",
    "stream= sys.stdout\n",
    "k,m,n=list(map(int,s.split(\" \")))\n",
    "org=k+m+n\n",
    "p_a_k= 1 # when first is AA\n",
    "p_a_m= 1*k/(org-1)+0.75*(m-1)/(org-1)+0.5*(n/(org-1)) ##when first is Aa\n",
    "p_a_n= 1*(k/(org-1))+0.5*(m/(org-1)) # when first is aa\n",
    "print(p_a_k*(k/org)+p_a_m*(m/org)+p_a_n*(n/org)) # full probability"
   ]
  },
  {
   "cell_type": "markdown",
   "metadata": {},
   "source": [
    "## Translating RNA into Protein\n",
    "\n",
    "### Problem\n",
    "\n",
    "The 20 commonly occurring amino acids are abbreviated by using 20 letters from the English alphabet (all letters except for B, J, O, U, X, and Z). Protein strings are constructed from these 20 symbols. Henceforth, the term genetic string will incorporate protein strings along with DNA strings and RNA strings.\n",
    "\n",
    "The RNA codon table dictates the details regarding the encoding of specific codons into the amino acid alphabet.\n",
    "\n",
    "<b>Given:</b> An RNA string <i>s</i> corresponding to a strand of mRNA (of length at most 10 kbp).\n",
    "\n",
    "<b>Return:</b> The protein string encoded by s.\n",
    "### Sample Dataset\n",
    "\n",
    ">AUGGCCAUGGCGCCCAGAACUGAGAUCAAUAGUACCCGUAUUAACGGGUGA\n",
    "\n",
    "### Sample Output\n",
    "\n",
    ">MAMAPRTEINSTRING\n"
   ]
  },
  {
   "cell_type": "code",
   "execution_count": 1,
   "metadata": {},
   "outputs": [
    {
     "name": "stdout",
     "output_type": "stream",
     "text": [
      "{'UUU': 'F', 'CUU': 'L', 'AUU': 'I', 'GUU': 'V', 'UUC': 'F', 'CUC': 'L', 'AUC': 'I', 'GUC': 'V', 'UUA': 'L', 'CUA': 'L', 'AUA': 'I', 'GUA': 'V', 'UUG': 'L', 'CUG': 'L', 'AUG': 'M', 'GUG': 'V', 'UCU': 'S', 'CCU': 'P', 'ACU': 'T', 'GCU': 'A', 'UCC': 'S', 'CCC': 'P', 'ACC': 'T', 'GCC': 'A', 'UCA': 'S', 'CCA': 'P', 'ACA': 'T', 'GCA': 'A', 'UCG': 'S', 'CCG': 'P', 'ACG': 'T', 'GCG': 'A', 'UAU': 'Y', 'CAU': 'H', 'AAU': 'N', 'GAU': 'D', 'UAC': 'Y', 'CAC': 'H', 'AAC': 'N', 'GAC': 'D', 'UAA': 'Stop', 'CAA': 'Q', 'AAA': 'K', 'GAA': 'E', 'UAG': 'Stop', 'CAG': 'Q', 'AAG': 'K', 'GAG': 'E', 'UGU': 'C', 'CGU': 'R', 'AGU': 'S', 'GGU': 'G', 'UGC': 'C', 'CGC': 'R', 'AGC': 'S', 'GGC': 'G', 'UGA': 'Stop', 'CGA': 'R', 'AGA': 'R', 'GGA': 'G', 'UGG': 'W', 'CGG': 'R', 'AGG': 'R', 'GGG': 'G'}\n"
     ]
    }
   ],
   "source": [
    "from itertools import islice\n",
    "table_str = \"UUU F      CUU L      AUU I      GUU V   \\\n",
    "             UUC F      CUC L      AUC I      GUC V   \\\n",
    "             UUA L      CUA L      AUA I      GUA V   \\\n",
    "             UUG L      CUG L      AUG M      GUG V   \\\n",
    "             UCU S      CCU P      ACU T      GCU A   \\\n",
    "             UCC S      CCC P      ACC T      GCC A   \\\n",
    "             UCA S      CCA P      ACA T      GCA A   \\\n",
    "             UCG S      CCG P      ACG T      GCG A   \\\n",
    "             UAU Y      CAU H      AAU N      GAU D   \\\n",
    "             UAC Y      CAC H      AAC N      GAC D   \\\n",
    "             UAA Stop   CAA Q      AAA K      GAA E   \\\n",
    "             UAG Stop   CAG Q      AAG K      GAG E   \\\n",
    "             UGU C      CGU R      AGU S      GGU G   \\\n",
    "             UGC C      CGC R      AGC S      GGC G   \\\n",
    "             UGA Stop   CGA R      AGA R      GGA G   \\\n",
    "             UGG W      CGG R      AGG R      GGG G\"\n",
    "table_list= table_str.split()\n",
    "protein_dict=dict(zip(islice(table_list, None, None, 2), islice(table_list, 1, None, 2)))\n",
    "print(protein_dict)"
   ]
  },
  {
   "cell_type": "code",
   "execution_count": 69,
   "metadata": {},
   "outputs": [
    {
     "name": "stdout",
     "output_type": "stream",
     "text": [
      "MFVMRFLVHLCGHNSSSLCTPTWGCRSPDFIRWISHVSKAAVVLAGLLTPKSISVSHGNIKLPPHLPTHRVSARTPLVVAQRTIHCQIFLRSVSGLTGFQIRTMKPTTAPVREYLIAHSVSILVGPIPRMTMLQFDTTIYSISRVAVQSKLNKGQTGDSAAVSHIDREMRSAGQHRLRECYLHCNSSLARNCDRQISLSGRVTPNRLRNVLLERLGLMTVIRVMAWVLSIQAITNNPLLNHSRPTQGSIFRMLTNFREMPYNQAALSQYRMCPDRPPCLFGRRKPSRDTGRLSLQSRSLPGCAMGFTDILSTTCRGVSSFVSENCCSTFGNSSVLLPIKFVGLQAEGSVPLRYGTSPSVVTRCTRYRQKLVTVLLVYLHEPPLPYTKGPSCWSRCLLEVDVLGLICTLMLTLEIQSLREPESASTRKFRARVLFRVVYVIQVISYASLPTRALAGHSRKVHGPIDVCAEAPHMVMYAGKAALICQLPDSSTFPKIYEEIPDIDGGRFYTISAFRKGLAYGLLKPVTPQLGLLRRTNQRSRIFWFSLAPRLSLHKYLWWYKSTVGRTGRGSLTIQCFSARESQVGRLRRYCCDYPVCHTPQVADLILNCVMVILRNASLADPRETLGRLLIETNIVVEHRLRKSDCSLYGRGVRKCSHEQVPALYRSPVSPAPSSLPTSTGEPKLATVWGPMGYRFPSEVLPGICVILTYVLSDIQQNVRRASARVTAMDITTYVRKVDSQASKLCPLSSGEAIFGAGPGRHLRESRITMSCYVSYKQCVHYYPPMPFAAKAVHDLVLFAIWTLTVKRALSDDIYGDPLRQPAFKARCHYQRCSGCTSRTDQPLCAIEGRRTCLNVPAACVTLVARARGTAAWVPNTSWLLSIWCDSKTSDESINNEHVNRQTESFEPVNPCNGKRTACTLQLTTMTLSQPIAIELRFDTIRRLTGLLLFTGPLRLKFYYCNGSKCAIPADRLLSAPLTLKPCQWDLVSSREQNIAEGRISLYALTSSEIRCALAFIAVENWSTEGHLIRMPKLSRILNASLTIFPQVWVTLIGTTACTKWGDYRHRRDRLNQGLAALAMCEKHASSPPILRASHTLAMGNYGRPLKRTYERPAEELASEHVPGRENSAGPLPSHVEWRLLVITVSRLEFTRRPTCVASGNILLKRSKQVPIPPVRSMRVPYRERCSLYGCAGTTSPEDTFAGRRRRLDILVSMREPLLSIRSINMLLLDTCNRKNPPLVVVMPRASRGLVVPDQNSGRFLTLSRRDNLPTLHSDYRIYTSLDTMLYISPTPKWNTASVYSERADHSMLPARWRPTESGQGPDYQEFQPLRGRATPSPAQWDGRRGPETHLCTIKCNLLKTQDRFVTSVTATTTIRRAAEPVKVSRERHSGMLSASREMYYSKVLFLVLRSRFTRDHWLRSALSGIRAPISPRGGDQCDDGNIVMHPKSPHIVCEAERRDLRRPICSAKVPLKRAQIPMIHGQGIIAAFAHGTYYCTHLLSYITQHFVTGRVGQDNYHTDLKGIGNMWPPFIKPPGARRLQLSAPLLSGIDSLVPAFPKPVSLARINVCADISAPYFSSALVTVSCTERACLWLWCRLTAVCAPDCVDPYECPDQRKSTGAIHTFGFGTGLYRGHETFGSYYMVVTLVHVAAPHLRRGAPFPGANPQRSHRSYAYTGSLRVQGRENVVSVWFLDIGALVVSIHFPKGRLLSRASAVYAELNCYACMACHSPCRRATLLMHSERENRSPSHREAVAVGDVGFIPRELLLSTRSHQLNTTAEGRLRAKAGIFLLVSESGPCSRQRRYHMGPHQMGSNQGSCARALLHHGDRRQVLSCRIPRVAAHLNPINGLLSSLSGVLGSGSTVVDILVCQNMGVYLGVSAGFVLKHHKPPDLLGAFEEPLLIGNADTGVHTYPKEQNVTCHPIARIGPPSNLAGEALENESVRKSYMQFITHSQLMCLRLQYHVWGWSVVKLSQPLWPIRLNSFRTTIWHHTVRLGCFGSGLSIVGRGYNAVHSQGRVSRRFRTRIQTRACAAFETQAPGVTAVALICPTFMNFATYLWATLSGDIGALEAESHIPLELQLFMATRAPPRGYVAPQARGRRRNSAASLSSLVHWEEGQVAPLPPDRDNAERITRISLMADSPLGSLQPSIQCLSTRHIGPRWVKPDAAPFIMSFWMTVILPNPTDVRNASIHLVPSWRLCVHAYFLVRNKNHNRTPRKHQADTVIHQHRLWRAGQVAAKGFGGSRRTMFASGRNNWVCILSWAITGRGPKLWMLSLTRVRHPGYIYNTSTHTLHLPKPVGLDRLTGRLPSKPARISKQSLMGGLIRGASEGLLYAQTYLCSTSAFCPTATQCRSAPLHEKRSPYSINHSCACQRVHPTYTSLATDMRRSMTASLDLDANKLLRTLRSELARQHDLVRRGATSHSLTCTQALPGRVAQHNVLILYLIGTAGGFFSVIELKFSGYQPFEAQHHLLSNSRTGPHLFLLLEREASSCEGDAIRLGRLASLLVSRLRGLAEARSELPGVLEGPVATVVSVTPIIAYTGTTVLKLDIPAPSPSDCGALRPRRVEHDPPGRCLHVILFKDPMATVLACCCIGPMDRQGLTWVSCRLWSPYLSKLRSAIFRRISSYNAKVYGNSVGIYYYSLVAPAQRRYSKKRPATLCIGPLCEINLSIEASRGVNRWFHVCVGFQLPSRILSGVFRCYVEDSYRSEEDGYCMPLVSGLGHVLIEDMMTHTLWSQPTYRYRGSSCIATGTKTIVRVVTRTSDRKGAPRIDSCTDIRTAADKFRDTRCLYGKEPRRNRCDVLYFIRSRLVRSCFWPGIDHERQPRCQRALSSRNSHRAAKERLADGPSKDPILFIALSQELYALSLTLTPACRRFSCRLKLAMSSFPPGAEPSCPRVYQIASRLLYSREFYLVRHQMDLPWFEPI"
     ]
    }
   ],
   "source": [
    "import sys\n",
    "f= open('D://datasets/rosalind_prot.txt')\n",
    "s=f.read()\n",
    "stream= sys.stdout\n",
    "for i in range(0,len(s),3):\n",
    "    if (protein_dict[s[i:(i+3):]]!= 'Stop'):\n",
    "        print(protein_dict[s[i:(i+3):]],file=stream,end=\"\")\n",
    "    else:\n",
    "        break"
   ]
  },
  {
   "cell_type": "markdown",
   "metadata": {},
   "source": [
    "## Finding a Motif in DNA\n",
    "### Problem\n",
    "\n",
    "Given two strings sand t, t is a substring of s if t is contained as a contiguous collection of symbols in s (as a result, t must be no longer than s).\n",
    "The position of a symbol in a string is the total number of symbols found to its left, including itself (e.g., the positions of all occurrences of 'U' in \"AUGCUUCAGAAAGGUCUUACG\" are 2, 5, 6, 15, 17, and 18). The symbol at position i\n",
    "of s is denoted by s[i].\n",
    "A substring of scan be represented as s[j:k], where j and k represent the starting and ending positions of the substring in s; for example, if s = \"AUGCUUCAGAAAGGUCUUACG\", then s[2:5]= \"UGCU\".\n",
    "\n",
    "The location of a substring s[j:k] is its beginning position j; note that t will have multiple locations in s if it occurs more than once as a substring of s (see the Sample below).\n",
    "\n",
    "Given: Two DNA strings s and t (each of length at most 1 kbp).\n",
    "\n",
    "Return: All locations of t as a substring of s.\n",
    "### Sample Dataset\n",
    "\n",
    ">GATATATGCATATACTT\n",
    "\n",
    ">ATAT\n",
    "### Sample Output\n",
    ">2 4 10\n"
   ]
  },
  {
   "cell_type": "code",
   "execution_count": 16,
   "metadata": {},
   "outputs": [
    {
     "name": "stdout",
     "output_type": "stream",
     "text": [
      "1 31 56 71 95 111 146 265 280 339 388 395 436 453 460 467 490 517 537 562 578 596 603 663 670 687 724 742 "
     ]
    }
   ],
   "source": [
    "import sys\n",
    "f= open('D://datasets/rosalind_subs.txt')\n",
    "s=f.read()\n",
    "stream= sys.stdout\n",
    "lines= s.split(\"\\n\")\n",
    "cur_pos=-1\n",
    "while(True):\n",
    "    cur_pos=lines[0].find(lines[1],cur_pos+1)\n",
    "    if(cur_pos==-1):\n",
    "        break\n",
    "    print((cur_pos+1),file=stream, end=\" \")\n",
    "    "
   ]
  },
  {
   "cell_type": "markdown",
   "metadata": {},
   "source": [
    "## Consensus and Profile\n",
    "### Problem\n",
    "<p>A <a class=\"term new\" href=\"/glossary/matrix/\" id=\"term-287\" rel=\"tooltip\" title=\"New term: \n",
    "A rectangular table of values arranged in rows and columns.\">matrix</a> is a rectangular table of values divided into rows and columns.  An <mathjax>$m \\times n$</mathjax> matrix has\n",
    "<mathjax>$m$</mathjax> rows and <mathjax>$n$</mathjax> columns.  Given a matrix <mathjax>$A$</mathjax>, we write <mathjax>$A_{i, j}$</mathjax> to indicate the value\n",
    "found at the intersection of row <mathjax>$i$</mathjax> and column <mathjax>$j$</mathjax>.</p>\n",
    "<p>Say that we have a collection of <a class=\"term\" href=\"/glossary/dna-string/\" id=\"term-349\" rel=\"tooltip\" title=\"\n",
    "A string constructed from the alphabet {A, C, G, T}.\">DNA strings</a>, all having the same length <mathjax>$n$</mathjax>.  Their\n",
    "<a class=\"term new\" href=\"/glossary/profile-matrix/\" id=\"term-328\" rel=\"tooltip\" title=\"New term: \n",
    "A matrix encoding the number of times that each symbol of an alphabet occurs in each\n",
    "position from a collection of strings.\">profile matrix</a> is a <mathjax>$4 \\times n$</mathjax> <a class=\"term\" href=\"/glossary/matrix/\" id=\"term-287\" rel=\"tooltip\" title=\"\n",
    "A rectangular table of values arranged in rows and columns.\">matrix</a> <mathjax>$P$</mathjax> in which <mathjax>$P_{1,j}$</mathjax> represents the number of\n",
    "times that 'A' occurs in the <mathjax>$j$</mathjax>th <a class=\"term\" href=\"/glossary/position/\" id=\"term-381\" rel=\"tooltip\" title=\"\n",
    "The position of a symbol in a string is the total number of symbols found to\n",
    "its left, including itself.\">position</a> of one of the strings, <mathjax>$P_{2,j}$</mathjax> represents\n",
    "the number of times that C occurs in the <mathjax>$j$</mathjax>th position, and so on (see below).</p>\n",
    "<p>A <a class=\"term new\" href=\"/glossary/consensus-string/\" id=\"term-329\" rel=\"tooltip\" title=\"New term: \n",
    "A string formed from a collection of equal-length strings by taking the most common symbol at each position.\">consensus string</a> <mathjax>$c$</mathjax> is a string of length <mathjax>$n$</mathjax> formed from our collection by taking the most common symbol\n",
    "at each position; the <mathjax>$j$</mathjax>th symbol of <mathjax>$c$</mathjax> therefore\n",
    "corresponds to the symbol having the maximum value in the <mathjax>$j$</mathjax>-th column of the profile matrix.\n",
    "Of course, there may be more than one most common symbol, leading to multiple possible consensus strings.</p>\n",
    "\n",
    "<p><center>\n",
    "<table border=\"0\" style=\"text-align: right; font-family: monospace\">\n",
    "<tr><td></td><td>A T C C A G C T</td></tr>\n",
    "<tr><td></td><td>G G G C A A C T</td></tr>\n",
    "<tr><td></td><td>A T G G A T C T</td></tr>\n",
    "<tr><td style=\"text-align: left\"><a class=\"term\" href=\"/glossary/dna-string/\" id=\"term-349\" rel=\"tooltip\" title=\"\n",
    "A string constructed from the alphabet {A, C, G, T}.\">DNA Strings</a></td><td>A A G C A A C C</td></tr>\n",
    "<tr><td></td><td>T T G G A A C T</td></tr>\n",
    "<tr><td></td><td>A T G C C A T T</td></tr>\n",
    "<tr><td></td><td>A T G G C A C T</td></tr>\n",
    "<tr><td colspan=\"2\"><hr></td></tr>\n",
    "<tr><td></td><td><strong>A</strong> &nbsp; 5 1 0 0 5 5 0 0</td></tr>\n",
    "<tr><td style=\"text-align: left\"><a class=\"term\" href=\"/glossary/profile-matrix/\" id=\"term-328\" rel=\"tooltip\" title=\"\n",
    "A matrix encoding the number of times that each symbol of an alphabet occurs in each\n",
    "position from a collection of strings.\">Profile</a></td><td><strong>C</strong> &nbsp; 0 0 1 4 2 0 6 1</td></tr>\n",
    "<tr><td></td><td><strong>G</strong> &nbsp; 1 1 6 3 0 1 0 0</td></tr>\n",
    "<tr><td></td><td><strong>T</strong> &nbsp; 1 5 0 0 0 1 1 6</td></tr>\n",
    "<tr><td colspan=\"2\"><hr></td></tr>\n",
    "<tr><td style=\"text-align: left\"><a class=\"term\" href=\"/glossary/consensus-string/\" id=\"term-329\" rel=\"tooltip\" title=\"\n",
    "A string formed from a collection of equal-length strings by taking the most common symbol at each position.\">Consensus</a></td><td>A T G C A A C T</td></tr>\n",
    "</table>\n",
    "</center></p>\n",
    "<p><b>Given:</b> A collection of at most 10 <a class=\"term\" href=\"/glossary/dna-string/\" id=\"term-349\" rel=\"tooltip\" title=\"\n",
    "A string constructed from the alphabet {A, C, G, T}.\">DNA strings</a> of equal length (at most 1 <a class=\"term\" href=\"/glossary/kbp/\" id=\"term-394\" rel=\"tooltip\" title=\"\n",
    "1 kbp = 1000 base pairs\">kbp</a>) in <a class=\"term\" href=\"/glossary/fasta-format/\" id=\"term-759\" rel=\"tooltip\" title=\"\n",
    "A text format used for naming genetic strings in databases.\">FASTA format</a>.</p>\n",
    "<p><b>Return:</b> A consensus string and profile matrix for the collection.\n",
    "(If several possible consensus strings exist, then you may return any one of them.)</p>\n",
    "### Sample Dataset\n",
    "\n",
    ">Rosalind_1 ATCCAGCT\n",
    ">Rosalind_2 GGGCAACT\n",
    ">Rosalind_3 ATGGATCT\n",
    ">Rosalind_4 AAGCAACC\n",
    ">Rosalind_5 TTGGAACT\n",
    ">Rosalind_6 ATGCCATT\n",
    ">Rosalind_7 ATGGCACT\n",
    "\n",
    "### Sample Output\n",
    "\n",
    ">ATGCAACT\n",
    "A: 5 1 0 0 5 5 0 0\n",
    "C: 0 0 1 4 2 0 6 1\n",
    "G: 1 1 6 3 0 1 0 0\n",
    "T: 1 5 0 0 0 1 1 6\n"
   ]
  },
  {
   "cell_type": "code",
   "execution_count": 84,
   "metadata": {},
   "outputs": [
    {
     "name": "stdout",
     "output_type": "stream",
     "text": [
      "GGAGAGTAATGACCCAACAGATCGACACGAGTGCGTAGGTAAAAAAATGTGGAAAACTCTACTCCCAGAAGCATACAAGTCATGGAGAATGGCAGGCCTAGCTACATTACCGAACACCAATTTTCCGACCAACTTGAACCTCAATCAAATCCAACGACCGGACCCATAGCAAAGAACACACCCTAAGAGGAAACCGTGGGATCCTCTGGGAGCGAGAGGAACCAATGACTGGTCAACCAGGTTATTAGTGCAGATTTCAGACCCGAGCCGAATAAAATACTTAATTAGTACGCGTCAAAAGCTACTCCCATATGATTAGTGCTAACGCCTCTGTATCCACAGACCGATCAAGACCTAAGATAATAGCAGAAAACAGAACCCCCAGTTAAGAGAAACCCCTTAATTACCGGTCGTTGGCGCGCAGTTACACTCTAGATACGGTGAAGACCAGGTGTCCATCTAGAGGAGCATTAGTGTCACCAAAAGGGACGTACAGACAGAACCTGGGACCACCAACGCCTGGAAATAGACAGCCCGCCCTCAAGCAGAGTAAAAGCCAAGCAGAAGCACGAGTCTTTAAACTTGCTAAAATTTCAAAGCATTGTTTCAAACAGTGCGCAGAACCCCCACTCGTCCCGGCAATAAACTGGCAAAAAATTCGCTAAAAATCCCGACAATAATGATCACAAGCAATCGAATGCTAAGATACGCTAATTTAAAACTATACGGACTTAGAACTTTAAGGCACTGTCTAGGAGTCTAGGGTTCCAAAAACATAGTCAATAAGCTCTCTTCAAACATTGGTGCCGCACCTCAGCATCCGCCTCACGAGTACAGGATATACATCGACATAAGCCCGAAAATTGTGTCAAGTCAAACGGTAGACAACAACTGCCCCACCCGCCCATAGTAATATTAACATTAGAAGAAACGGCACGATGGCCCGGTCTAGCTAAGCTATA\n",
      "A: 2 2 5 2 3 1 1 4 5 1 0 4 2 4 1 3 5 3 4 1 3 3 2 2 3 1 3 0 1 6 2 1 0 1 1 2 3 2 1 3 4 5 3 4 3 5 4 3 2 2 1 2 3 4 5 5 2 3 1 3 4 2 0 2 3 1 3 1 5 4 2 0 4 2 3 2 4 3 1 1 1 3 2 3 1 3 1 6 3 2 1 3 2 5 0 2 2 2 1 4 2 2 2 4 3 4 1 0 4 3 1 3 4 4 3 3 3 0 4 5 2 2 0 1 1 2 1 4 1 2 4 3 2 3 1 2 4 4 2 2 3 1 4 4 3 2 5 4 5 3 1 2 3 4 2 1 4 2 3 2 3 4 1 2 3 4 2 4 2 1 5 4 3 2 5 3 2 5 2 4 3 1 2 1 4 4 1 3 2 2 3 3 3 2 2 1 2 0 2 1 4 2 1 2 2 2 3 2 2 1 4 0 0 1 3 3 5 2 2 3 3 0 3 5 3 4 1 5 2 2 0 1 3 3 5 4 3 1 5 1 3 3 0 4 3 1 3 3 2 2 1 4 1 3 2 1 2 2 5 2 4 2 2 2 2 6 2 1 2 3 3 4 2 4 6 4 6 2 3 2 1 1 4 5 2 1 5 3 3 4 1 2 2 2 3 1 3 5 4 4 3 2 0 4 1 1 2 0 1 3 1 3 2 0 4 2 3 4 0 2 3 3 2 4 4 0 3 1 2 3 0 3 1 2 4 2 2 3 4 2 3 1 3 2 0 0 5 0 2 3 5 2 5 2 1 1 4 6 1 3 0 4 3 2 3 1 1 4 0 4 5 4 3 2 3 2 3 3 2 2 2 0 3 4 1 3 2 4 4 1 4 1 4 4 4 1 2 2 1 1 1 4 3 1 1 3 2 1 2 0 3 1 1 3 4 2 2 1 3 0 2 2 3 1 2 1 3 2 3 2 0 1 0 3 3 4 1 4 2 0 3 1 1 3 3 2 3 1 1 4 2 0 3 1 2 1 2 3 2 2 2 5 3 3 2 2 4 3 2 3 2 2 3 0 2 2 3 2 6 2 2 4 3 4 3 1 2 2 4 2 0 2 4 2 4 1 3 3 4 3 3 4 2 2 3 3 2 2 4 1 2 5 3 2 3 4 1 1 3 0 1 2 2 3 5 4 0 3 2 3 0 3 3 2 3 2 1 1 3 2 2 4 3 4 3 3 4 3 5 3 2 5 4 3 4 0 2 2 5 5 2 1 3 2 6 3 1 2 3 3 2 3 2 1 3 0 2 3 5 5 4 2 2 1 3 3 3 4 4 5 3 2 1 2 3 5 4 3 3 1 7 2 0 2 0 2 2 1 3 4 4 1 5 1 4 1 2 1 2 4 2 3 5 2 1 2 3 2 3 1 0 3 3 2 2 3 1 3 2 1 4 3 1 4 3 3 2 2 1 3 2 5 3 3 4 4 4 1 1 2 2 1 1 4 4 3 6 4 1 1 2 3 1 4 1 4 6 2 5 5 2 3 5 2 2 4 3 5 3 2 1 6 3 3 2 3 3 3 3 1 2 1 3 3 1 4 1 3 3 2 2 3 5 4 2 2 3 4 4 3 5 2 2 4 4 4 2 2 3 6 0 3 2 3 1 4 4 2 0 2 2 4 4 2 2 2 4 2 1 1 3 2 2 3 2 3 4 3 1 2 2 4 1 3 3 3 0 3 3 5 3 4 4 4 1 4 3 5 2 1 3 3 4 1 5 4 1 2 2 2 4 3 1 2 2 4 3 4 2 4 1 3 2 3 2 1 1 2 1 1 5 3 2 3 2 4 2 1 3 3 2 1 3 2 2 2 2 5 1 3 4 2 1 4 4 4 2 1 3 3 3 2 5 1 5 2 2 2 4 2 7 1 4 3 2 2 1 1 1 4 3 4 3 3 3 2 3 1 0 3 5 5 2 0 1 5 4 4 1 3 2 2 3 0 5 3 5 4 0 3 3 1 1 2 1 2 1 1 4 2 1 2 2 2 2 3 5 3 3 2 1 3 3 2 3 1 3 3 6 1 4 3 2 5 1 3 3 1 3 4 4 2 2 3 2 4 2 2 3 2 2 2 2 1 2 2 2 0 1 2 4 2 1 1 3 3 1 2 1 3 2 3\n",
      "C: 2 2 2 3 3 3 2 2 2 3 3 4 4 5 4 2 4 4 1 2 2 3 5 2 2 4 3 6 3 0 1 3 2 3 2 1 3 1 2 1 1 1 2 2 3 2 2 1 1 3 3 2 2 1 2 1 5 2 7 3 4 4 4 3 5 5 3 2 2 3 0 5 2 1 1 4 1 2 1 3 4 3 3 2 3 2 2 1 2 2 2 2 3 3 3 3 4 3 2 1 1 4 1 1 4 1 2 3 2 4 6 1 2 2 4 3 4 5 4 2 3 2 2 2 5 5 2 0 5 4 3 2 4 1 3 1 1 1 3 5 2 5 0 2 1 3 2 1 3 1 3 5 2 1 3 3 2 3 4 2 1 2 4 5 4 3 1 1 2 4 2 2 2 0 2 2 5 3 4 2 4 3 5 3 2 1 2 1 2 0 3 3 2 5 3 2 2 2 2 2 3 1 6 3 3 4 2 3 2 3 2 3 4 1 2 3 3 2 2 3 3 4 4 4 2 0 3 0 3 1 3 3 1 4 2 2 4 6 2 2 1 3 2 1 0 2 2 0 3 1 4 2 1 2 2 1 2 4 4 2 0 6 4 3 2 2 2 3 3 0 3 2 2 2 0 1 0 1 3 3 2 2 1 3 1 3 0 0 1 2 5 2 3 0 1 4 3 3 2 2 1 5 3 1 4 2 3 5 4 2 2 2 2 3 0 1 1 3 2 2 3 6 1 2 4 5 1 6 4 0 7 2 1 3 2 3 4 4 1 3 2 1 2 3 6 2 1 1 4 3 1 2 0 4 3 1 3 0 2 1 4 3 1 2 2 2 3 2 1 1 1 4 3 4 2 2 3 1 4 4 3 5 4 1 2 1 2 0 1 3 2 1 2 2 1 4 3 3 3 2 4 2 3 2 4 1 5 4 0 2 2 4 3 1 0 1 1 4 0 5 2 3 3 2 2 2 2 4 1 3 4 4 2 2 2 3 1 3 5 2 2 3 2 3 2 1 2 4 4 2 3 2 1 3 3 3 4 2 2 6 2 2 1 3 2 2 3 2 3 1 2 2 3 3 1 3 3 3 3 3 5 2 3 3 3 2 2 1 3 3 2 2 3 4 0 1 2 4 2 2 3 2 3 3 1 1 0 3 1 3 3 2 4 7 2 2 4 2 4 6 2 2 3 1 2 3 3 2 2 3 5 3 2 3 4 4 2 6 4 3 0 5 2 3 2 5 4 2 2 2 1 0 1 3 2 2 3 4 2 1 2 3 1 1 2 3 2 3 2 4 0 2 2 1 4 3 2 2 3 2 3 4 1 1 1 4 2 1 2 1 2 1 2 0 5 2 1 2 2 5 2 1 3 1 1 2 1 3 1 3 4 3 2 2 0 2 5 3 3 4 2 3 0 3 8 3 5 5 3 4 1 4 2 2 5 4 4 3 2 3 2 2 3 2 2 2 4 0 3 2 6 3 3 2 1 1 3 2 3 3 2 5 3 2 2 3 1 4 3 4 3 5 0 4 4 0 1 1 1 1 0 1 0 2 5 3 4 3 2 2 4 1 2 3 4 2 3 3 3 2 5 1 3 3 3 1 3 2 4 3 3 2 4 1 3 1 0 2 2 1 3 5 1 2 0 4 3 2 3 2 5 2 3 3 1 1 1 4 2 3 1 2 0 1 2 3 0 4 2 2 2 5 3 3 2 2 2 1 1 5 3 1 2 2 2 1 3 4 4 4 3 3 2 3 4 2 1 2 3 4 4 3 1 2 2 3 3 3 1 3 0 5 3 1 4 1 3 1 3 2 2 1 2 3 1 3 4 4 2 3 3 4 5 1 4 2 3 4 3 0 3 4 2 4 6 1 3 2 3 2 2 0 2 3 5 1 2 1 1 1 2 2 0 4 2 1 4 1 3 4 3 3 2 3 2 3 4 3 3 1 3 1 2 1 0 2 1 3 3 5 1 3 2 2 5 1 3 1 5 2 0 1 3 3 0 5 2 1 4 1 3 6 1 1 3 4 4 4 1 3 6 3 2 4 3 4 0 2 2 3 3 3 3 2 2 1 2 2 0 6 3 1 2 3 1 3 1 1 1 1 2 5 1 3 5 1 4 1 3 3 0 3 3 4 4 2 2 1 5 2 1 2 4 3 1 3 3 5 2 1 3 3\n",
      "G: 3 5 0 4 2 5 3 2 1 2 5 2 0 0 4 3 1 2 3 4 2 0 2 4 2 3 3 3 4 2 4 2 5 3 5 2 2 4 4 2 4 4 3 2 1 1 2 2 7 1 4 4 2 2 1 3 2 1 1 0 1 3 1 2 1 0 1 4 3 1 4 4 3 3 3 2 2 3 4 2 2 3 1 4 4 2 5 0 2 2 4 4 3 2 4 4 2 3 2 1 4 2 1 2 3 3 3 2 1 2 1 4 2 1 1 3 2 4 2 1 1 1 3 3 3 2 5 3 1 3 3 3 2 1 1 4 2 2 2 2 1 1 4 2 1 2 3 4 2 1 3 1 2 3 2 6 3 3 3 4 4 1 4 2 1 1 3 2 4 4 0 1 3 5 3 3 2 1 2 3 1 3 2 2 2 4 5 3 3 5 3 3 3 3 2 5 1 4 3 4 1 3 2 3 0 3 1 4 4 4 2 4 3 5 2 4 1 3 4 2 3 2 2 0 3 1 4 3 2 0 5 5 1 1 0 2 1 2 0 6 5 0 2 4 3 1 2 4 1 4 4 0 4 2 1 2 2 0 0 4 4 2 2 2 3 2 5 3 3 6 2 2 1 2 2 1 0 3 3 3 3 3 2 0 3 2 2 4 2 3 3 4 3 6 2 3 2 2 1 2 5 1 3 4 3 3 3 3 3 3 2 2 1 4 3 3 2 1 4 1 4 1 3 2 0 3 4 1 2 3 2 1 5 1 3 1 3 0 3 3 2 4 2 2 2 5 4 4 3 2 3 3 3 2 3 3 1 3 6 3 1 3 3 2 2 4 3 0 5 1 4 1 3 2 2 5 2 3 1 1 3 0 1 2 5 1 2 2 4 6 2 4 3 1 1 1 3 3 3 2 0 1 1 2 0 3 2 2 4 5 1 4 4 2 0 5 4 3 6 2 3 3 3 4 1 3 3 1 3 3 1 2 2 3 4 2 3 1 1 5 4 2 4 3 2 4 2 2 2 0 5 4 2 6 1 3 2 2 2 1 1 2 5 2 3 5 3 5 3 3 2 1 3 6 1 4 0 3 0 3 2 3 2 1 3 5 3 4 1 3 4 1 2 2 2 4 3 1 2 4 3 1 2 3 1 5 6 4 4 3 2 2 3 1 3 2 2 4 0 2 2 4 4 3 1 2 3 2 4 3 3 2 4 2 0 1 5 3 0 3 3 1 2 1 4 0 1 4 2 5 3 4 3 2 0 4 2 3 0 2 3 3 3 5 2 3 5 3 3 1 4 3 5 2 1 3 2 0 2 1 2 1 0 2 6 1 1 4 2 2 3 2 1 3 1 0 4 3 4 3 0 2 3 6 4 2 3 3 3 2 2 3 2 6 1 6 1 4 3 1 5 1 2 3 0 3 1 3 2 4 3 2 4 2 0 2 2 4 4 3 1 2 2 2 2 2 4 3 4 4 1 1 3 3 3 4 2 3 1 2 3 3 1 1 2 2 2 0 1 3 3 1 8 1 3 2 2 2 2 1 3 4 2 2 1 1 2 0 3 3 3 0 2 0 3 4 2 3 0 5 2 3 1 2 5 1 0 3 2 4 2 1 0 2 1 2 3 4 3 3 1 2 3 2 1 0 2 3 4 1 1 1 1 3 5 4 2 3 3 1 2 1 3 5 4 3 3 2 2 4 1 0 1 2 4 4 2 6 3 2 1 3 4 4 4 2 2 1 2 0 1 0 3 3 3 1 2 3 4 0 2 2 3 3 3 1 4 3 3 3 1 1 1 2 3 2 2 1 3 2 3 1 4 4 2 5 3 3 4 3 1 1 2 2 1 3 5 1 2 1 2 3 5 0 1 3 2 1 3 4 2 4 0 1 0 3 3 4 3 2 2 2 3 1 2 3 1 4 3 0 0 2 2 3 4 3 1 3 4 3 2 3 2 2 2 3 1 5 3 0 2 1 4 2 2 4 2 2 2 5 4 0 3 5 2 0 0 1 4 3 3 2 3 6 3 2 1 3 2 3 1 3 4 2 2 1 1 1 2 4 2 2 2 2 3 3 0 2 3 0 2 1 2 1 4 3 3 4 3 1 1 3 4 4 1 2 3 4 3 0 6 4 3 4 1 4 4 4 0 1 3 4 3 2 3 3 4 0 3 3 1 3\n",
      "T: 3 1 3 1 2 1 4 2 2 4 2 0 4 1 1 2 0 1 2 3 3 4 1 2 3 2 1 1 2 2 3 4 3 3 2 5 2 3 3 4 1 0 2 2 3 2 2 4 0 4 2 2 3 3 2 1 1 4 1 4 1 1 5 3 1 4 3 3 0 2 4 1 1 4 3 2 3 2 4 4 3 1 4 1 2 3 2 3 3 4 3 1 2 0 3 1 2 2 5 4 3 2 6 3 0 2 4 5 3 1 2 2 2 3 2 1 1 1 0 2 4 5 5 4 1 1 2 3 3 1 0 2 2 5 5 3 3 3 3 1 4 3 2 2 5 3 0 1 0 5 3 2 3 2 3 0 1 2 0 2 2 3 1 1 2 2 4 3 2 1 3 3 2 3 0 2 1 1 2 1 2 3 1 4 2 1 2 3 3 3 1 1 2 0 3 2 5 4 3 3 2 4 1 2 5 1 4 1 2 2 2 3 3 3 3 0 1 3 2 2 1 4 1 1 2 5 2 2 3 7 2 1 5 2 3 2 2 1 3 1 1 4 6 1 4 6 3 3 4 3 1 4 4 3 5 6 4 4 1 2 2 0 2 3 3 0 1 3 2 1 2 2 5 2 2 4 4 4 1 2 4 4 3 2 4 4 3 3 4 1 1 2 2 2 4 2 2 0 3 2 1 2 4 1 2 4 2 2 2 2 5 3 5 3 3 4 4 2 4 5 0 0 4 2 2 2 2 2 2 4 1 4 3 4 1 4 1 3 2 2 3 4 3 3 2 3 0 5 1 2 1 3 2 2 3 5 2 1 1 3 5 0 3 4 3 3 3 4 4 4 0 1 1 2 3 1 2 3 3 3 2 5 2 3 2 5 4 4 1 0 2 4 1 3 4 4 2 2 3 5 5 3 3 5 5 3 1 3 4 3 4 1 2 4 6 2 3 2 1 3 3 2 1 3 5 4 2 3 3 2 5 3 6 2 1 1 5 2 2 3 1 4 3 1 3 3 3 3 3 4 0 4 4 0 4 3 2 3 4 1 5 1 1 2 3 1 0 0 2 3 4 5 1 1 6 1 4 2 1 2 1 1 2 2 1 2 3 3 2 2 4 5 1 2 4 4 2 2 2 1 1 3 3 2 5 1 2 1 1 3 3 1 0 0 2 2 3 3 3 2 5 2 1 3 2 1 4 3 2 1 2 2 1 3 3 3 2 0 3 2 5 0 3 2 1 2 1 1 1 0 4 1 2 2 4 4 3 1 3 2 3 3 3 2 0 1 2 2 2 2 4 2 1 6 2 4 4 5 0 2 1 3 7 6 0 2 4 1 2 2 2 5 6 5 1 3 1 2 1 1 1 5 4 1 5 4 4 3 3 1 0 3 1 1 5 1 2 2 2 1 1 3 3 2 1 2 1 0 2 1 6 1 1 4 3 1 3 0 2 3 3 3 4 2 3 3 0 5 2 1 1 1 1 2 2 1 1 4 5 3 3 1 5 3 2 2 1 2 5 2 2 1 1 1 2 4 1 5 2 3 5 2 3 4 2 2 1 2 2 3 2 3 3 4 1 1 2 1 4 2 1 5 3 2 1 4 6 2 1 1 3 4 1 3 4 5 4 0 1 3 1 1 4 2 5 2 3 3 0 1 4 4 4 1 3 1 3 1 5 4 5 3 3 2 2 2 3 2 5 3 4 3 4 2 2 1 2 0 5 1 4 2 3 1 1 4 5 2 1 1 3 3 1 0 2 3 4 0 1 5 1 2 2 4 0 2 2 2 4 2 5 1 5 5 1 3 2 4 2 2 4 5 2 0 5 1 2 1 3 3 1 2 1 4 3 1 0 4 2 6 3 2 0 4 1 4 3 2 3 1 2 4 7 2 1 2 3 4 3 4 3 4 2 4 1 4 3 3 0 4 0 4 2 1 2 2 4 3 2 2 2 2 3 4 5 3 5 1 4 2 2 1 2 6 2 0 1 3 2 0 4 7 1 2 3 2 3 4 2 3 1 1 5 1 3 2 4 2 3 2 2 2 2 2 3 2 4 4 3 1 4 2 2 4 2 5 5 3 1 3 1 5 4 1 4 1 3 4 3 4 3 0 3 0 2 3 1 3 1 5 2 1 2 1 3 2 2 5 4 5 2 2 2 4 3 1 2 3 4 3 4 1\n"
     ]
    }
   ],
   "source": [
    "import sys\n",
    "f= open('D://datasets/rosalind_cons.txt')\n",
    "s=f.read()\n",
    "stream= sys.stdout\n",
    "lines= s.strip().split(\">\")[1::]\n",
    "alph={\"A\":0,\"C\":0,\"G\":0,\"T\":0}\n",
    "prof_matr={\"A\":[],\"C\":[],\"G\":[],\"T\":[]}\n",
    "genes = [ g[g.find(\"\\n\")+1::].replace(\"\\n\",\"\") for g in lines]\n",
    "for i in range(0, len(genes[0])):\n",
    "    for g in range(0,len(lines)):\n",
    "        alph[\"A\"]+=(genes[g][i]=='A')\n",
    "        alph[\"G\"]+=(genes[g][i]=='G')\n",
    "        alph[\"C\"]+=(genes[g][i]=='C')\n",
    "        alph[\"T\"]+=(genes[g][i]=='T')\n",
    "    print(max(alph, key=alph.get),file=stream,end=\"\")\n",
    "    for c in alph.keys():\n",
    "        prof_matr[c].append(alph[c])   \n",
    "    alph[\"A\"]=0\n",
    "    alph[\"G\"]=0\n",
    "    alph[\"C\"]=0\n",
    "    alph[\"T\"]=0\n",
    "print()\n",
    "for a in prof_matr:\n",
    "    print(a,end=\": \")\n",
    "    print(*prof_matr[a])"
   ]
  },
  {
   "cell_type": "markdown",
   "metadata": {},
   "source": [
    "## Mortal Fibonacci Rabbits\n",
    "### Problem\n",
    "<table>\n",
    "    <tr><td><p>Recall the definition of the <a class=\"term\" href=\"/glossary/fibonacci-sequence/\" id=\"term-760\" rel=\"tooltip\" title=\"\n",
    "A sequence of numbers formed by adding the two previous members of the sequence.\">Fibonacci numbers</a> from <a data-content=\"Solved by 17786 (correct ratio 66.1%).&lt;p class=&quot;topics&quot;&gt;&lt;strong&gt;Topics&lt;/strong&gt;: &lt;span class=&quot;topic&quot;&gt;Combinatorics&lt;/span&gt;, &lt;span class=&quot;topic&quot;&gt;Dynamic Programming&lt;/span&gt;&lt;/p&gt;\" data-trigger=\"hover\" href=\"/problems/fib/\" rel=\"popover\" title=\"“Rabbits and Recurrence Relations”\">“Rabbits and Recurrence Relations”</a>, which followed\n",
    "the <a class=\"term\" href=\"/glossary/recurrence-relation/\" id=\"term-757\" rel=\"tooltip\" title=\"\n",
    "An equation defining the terms of a sequence with respect to previous terms.\">recurrence relation</a> <mathjax>$F_n = F_{n-1} + F_{n-2}$</mathjax> and assumed that each pair of rabbits\n",
    "reaches maturity in one month and produces a single pair of offspring (one male, one female) each subsequent\n",
    "month.</p>\n",
    "<p>Our aim is to somehow modify this recurrence relation to achieve a <a class=\"term\" href=\"/glossary/dynamic-programming/\" id=\"term-196\" rel=\"tooltip\" title=\"\n",
    "The algorithmic notion of building up a solution to a problem by solving it on progressively larger cases.\">dynamic programming</a> solution\n",
    "in the case that all rabbits die out after a fixed number of months.  See\n",
    "<a href=\"/media/problems/fibd/mortal_rabbit_tree.png\" lightbox-title=\"A figure illustrating the propagation of Fibonacci's rabbits if they die after three months.\" rel=\"lightbox[figures]\" title=\"Click to view\">Figure 4</a>\n",
    "for a depiction of a rabbit tree in which rabbits live for three months (meaning that they\n",
    "reproduce only twice before dying).</p>\n",
    "<p><b>Given:</b> Positive integers <mathjax>$n \\leq 100$</mathjax> and <mathjax>$m \\leq 20$</mathjax>.</p>\n",
    "<p><b>Return:</b> The total number of pairs of rabbits that will remain after the <mathjax>$n$</mathjax>-th\n",
    "month if all rabbits live for <mathjax>$m$</mathjax> months.</p></td>\n",
    "        <td><img src=\"mortal_rabbit_tree.thumb.png\" /><div class=\"caption\"><strong>Figure 4</strong><span>. </span><span>A figure illustrating the propagation of Fibonacci's rabbits if they die after three months.</span></td></tr>\n",
    "</table>\n",
    "\n",
    "### Sample Dataset\n",
    ">6 3\n",
    "### Sample Output\n",
    ">4\n",
    "\n"
   ]
  },
  {
   "cell_type": "code",
   "execution_count": 82,
   "metadata": {},
   "outputs": [
    {
     "name": "stdout",
     "output_type": "stream",
     "text": [
      "160188618996844053\n"
     ]
    }
   ],
   "source": [
    "import sys\n",
    "f= open('D://datasets/rosalind_fibd(1).txt')\n",
    "s=f.read()\n",
    "stream= sys.stdout\n",
    "n,m=list(map(int,s.split(\" \")))\n",
    "res=[1,1,1]\n",
    "if (n>3):\n",
    "    for i in range(3,(n+1)):\n",
    "        if i>m:\n",
    "            res.append(res[i-2]+res[i-1]-res[i-m-1])\n",
    "        else:\n",
    "            res.append(res[i-2]+res[i-1])\n",
    "print(res[n],file=stream)"
   ]
  },
  {
   "cell_type": "markdown",
   "metadata": {},
   "source": [
    "## Overlap Graphs\n",
    "### Problem\n",
    "<p>A graph whose nodes have all been labeled can be represented by an <a class=\"term new\" href=\"/glossary/adjacency-list/\" id=\"term-391\" rel=\"tooltip\" title=\"New term: \n",
    "A list containing the edges of a graph.\">adjacency list</a>, in which\n",
    "each row of the list contains the two node labels corresponding to a unique edge.</p>\n",
    "<p>A <a class=\"term new\" href=\"/glossary/directed-graph/\" id=\"term-425\" rel=\"tooltip\" title=\"New term: \n",
    "A graph whose edges are oriented as arrows.\">directed graph</a> (or digraph) is a graph containing <a class=\"term new\" href=\"/glossary/directed-edge/\" id=\"term-431\" rel=\"tooltip\" title=\"New term: \n",
    "The oriented edge of a directed graph.\">directed edges</a>, each of which has an orientation.\n",
    "That is, a directed edge is represented by an arrow instead of a line segment; the starting and ending nodes of an\n",
    "edge form its <a class=\"term new\" href=\"/glossary/tail/\" id=\"term-433\" rel=\"tooltip\" title=\"New term: \n",
    "The starting node of a directed edge.\">tail</a> and <a class=\"term new\" href=\"/glossary/head/\" id=\"term-432\" rel=\"tooltip\" title=\"New term: \n",
    "The ending node of a directed edge.\">head</a>, respectively.  The directed edge with tail <mathjax>$v$</mathjax> and head <mathjax>$w$</mathjax> is\n",
    "represented by <mathjax>$(v, w)$</mathjax> (but <em>not</em> by <mathjax>$(w, v)$</mathjax>).  A <a class=\"term new\" data-math=\"true\" href=\"/glossary/directed-loop/\" id=\"term-516\" rel=\"tooltip\" title=\"New term: \n",
    "A directed edge $(v, v)$.\">directed loop</a> is a directed edge of the form <mathjax>$(v, v)$</mathjax>.</p>\n",
    "<p>For a collection of strings and a positive integer <mathjax>$k$</mathjax>, the <a class=\"term new\" href=\"/glossary/overlap-graph/\" id=\"term-444\" rel=\"tooltip\" title=\"New term: \n",
    "A directed graph representing overlap relationships in a collection of strings.\">overlap graph</a> for the strings is a\n",
    "directed graph <mathjax>$\\mathrm{O}_k$</mathjax> in which each string is represented by a node, and string <mathjax>$s$</mathjax> is connected to string\n",
    "<mathjax>$t$</mathjax> with a directed edge when there is a length <mathjax>$k$</mathjax> <a class=\"term\" href=\"/glossary/suffix/\" id=\"term-306\" rel=\"tooltip\" title=\"\n",
    "A substring of a given string that includes its final symbol.\">suffix</a> of <mathjax>$s$</mathjax> that matches a length <mathjax>$k$</mathjax> <a class=\"term\" href=\"/glossary/prefix/\" id=\"term-304\" rel=\"tooltip\" title=\"\n",
    "A substring of a given string that includes its first symbol.\">prefix</a> of <mathjax>$t$</mathjax>,\n",
    "as long as <mathjax>$s \\neq t$</mathjax>; we demand <mathjax>$s \\neq t$</mathjax> to prevent directed loops in the overlap graph\n",
    "(although directed cycles may be present).</p>\n",
    "<p><b>Given:</b> A collection of <a class=\"term\" href=\"/glossary/dna-string/\" id=\"term-349\" rel=\"tooltip\" title=\"\n",
    "A string constructed from the alphabet {A, C, G, T}.\">DNA strings</a> in <a class=\"term\" href=\"/glossary/fasta-format/\" id=\"term-759\" rel=\"tooltip\" title=\"\n",
    "A text format used for naming genetic strings in databases.\">FASTA format</a> having total length at most 10 <a class=\"term\" href=\"/glossary/kbp/\" id=\"term-394\" rel=\"tooltip\" title=\"\n",
    "1 kbp = 1000 base pairs\">kbp</a>.</p>\n",
    "<p><b>Return:</b> The adjacency list corresponding to <mathjax>$\\mathrm{O}_3$</mathjax>.  You may return edges in any order.</p>\n",
    "\n",
    "### Sample Dataset\n",
    ">Rosalind_0498\n",
    "AAATAAA\n",
    "\n",
    ">Rosalind_2391\n",
    "AAATTTT\n",
    "\n",
    ">Rosalind_2323\n",
    "TTTTCCC\n",
    "\n",
    ">Rosalind_0442\n",
    "AAATCCC\n",
    "\n",
    ">Rosalind_5013\n",
    "GGGTGGG\n",
    "\n",
    "### Sample Output\n",
    ">Rosalind_0498 Rosalind_2391\n",
    "\n",
    ">Rosalind_0498 Rosalind_0442\n",
    "\n",
    ">Rosalind_2391 Rosalind_2323\n"
   ]
  },
  {
   "cell_type": "code",
   "execution_count": 131,
   "metadata": {},
   "outputs": [
    {
     "name": "stdout",
     "output_type": "stream",
     "text": [
      "Rosalind_6272 Rosalind_0972\n",
      "Rosalind_8131 Rosalind_4019\n",
      "Rosalind_0577 Rosalind_2458\n",
      "Rosalind_2533 Rosalind_8679\n",
      "Rosalind_0684 Rosalind_3372\n",
      "Rosalind_6478 Rosalind_3626\n",
      "Rosalind_8405 Rosalind_2905\n",
      "Rosalind_6350 Rosalind_9736\n",
      "Rosalind_6743 Rosalind_8741\n",
      "Rosalind_2859 Rosalind_5334\n",
      "Rosalind_5692 Rosalind_2583\n",
      "Rosalind_8405 Rosalind_4477\n",
      "Rosalind_3320 Rosalind_2450\n",
      "Rosalind_1390 Rosalind_6272\n",
      "Rosalind_3259 Rosalind_5334\n",
      "Rosalind_2859 Rosalind_3320\n",
      "Rosalind_0209 Rosalind_9269\n",
      "Rosalind_4477 Rosalind_8405\n",
      "Rosalind_9269 Rosalind_8802\n",
      "Rosalind_3372 Rosalind_1390\n",
      "Rosalind_8367 Rosalind_5398\n",
      "Rosalind_6196 Rosalind_2458\n",
      "Rosalind_2533 Rosalind_3713\n",
      "Rosalind_1050 Rosalind_9818\n",
      "Rosalind_0352 Rosalind_3910\n",
      "Rosalind_8203 Rosalind_5692\n",
      "Rosalind_7431 Rosalind_5737\n",
      "Rosalind_9269 Rosalind_2789\n",
      "Rosalind_5334 Rosalind_3626\n",
      "Rosalind_4019 Rosalind_7854\n",
      "Rosalind_0972 Rosalind_2537\n",
      "Rosalind_5692 Rosalind_2746\n",
      "Rosalind_6743 Rosalind_0086\n",
      "Rosalind_3372 Rosalind_8328\n",
      "Rosalind_3491 Rosalind_4019\n",
      "Rosalind_4052 Rosalind_0652\n",
      "Rosalind_8517 Rosalind_1390\n",
      "Rosalind_4019 Rosalind_2463\n",
      "Rosalind_8517 Rosalind_8328\n",
      "Rosalind_8517 Rosalind_5650\n",
      "Rosalind_8176 Rosalind_8367\n",
      "Rosalind_2583 Rosalind_8741\n",
      "Rosalind_0652 Rosalind_9818\n",
      "Rosalind_1050 Rosalind_1385\n",
      "Rosalind_2583 Rosalind_5887\n",
      "Rosalind_3491 Rosalind_1050\n",
      "Rosalind_0086 Rosalind_7190\n",
      "Rosalind_7190 Rosalind_6350\n",
      "Rosalind_1390 Rosalind_8582\n",
      "Rosalind_2533 Rosalind_6196\n",
      "Rosalind_2533 Rosalind_0389\n",
      "Rosalind_6350 Rosalind_1908\n",
      "Rosalind_2905 Rosalind_0684\n",
      "Rosalind_3626 Rosalind_5737\n",
      "Rosalind_8367 Rosalind_6350\n",
      "Rosalind_1405 Rosalind_9777\n",
      "Rosalind_1405 Rosalind_5737\n",
      "Rosalind_6353 Rosalind_0652\n",
      "Rosalind_5887 Rosalind_0692\n",
      "Rosalind_2583 Rosalind_0086\n",
      "Rosalind_9080 Rosalind_8517\n",
      "Rosalind_3910 Rosalind_2905\n",
      "Rosalind_3259 Rosalind_3320\n",
      "Rosalind_3970 Rosalind_1050\n",
      "Rosalind_0692 Rosalind_8176\n",
      "Rosalind_5378 Rosalind_3259\n",
      "Rosalind_6743 Rosalind_8418\n",
      "Rosalind_7854 Rosalind_0352\n",
      "Rosalind_8602 Rosalind_0812\n",
      "Rosalind_5887 Rosalind_2859\n",
      "Rosalind_3910 Rosalind_9279\n",
      "Rosalind_8131 Rosalind_1050\n",
      "Rosalind_8405 Rosalind_9279\n",
      "Rosalind_8328 Rosalind_0405\n",
      "Rosalind_8328 Rosalind_0692\n",
      "Rosalind_6353 Rosalind_0417\n",
      "Rosalind_0942 Rosalind_9736\n",
      "Rosalind_2803 Rosalind_4019\n",
      "Rosalind_8092 Rosalind_6353\n",
      "Rosalind_4610 Rosalind_4704\n",
      "Rosalind_6743 Rosalind_5887\n",
      "Rosalind_4052 Rosalind_2537\n",
      "Rosalind_5887 Rosalind_0405\n",
      "Rosalind_3713 Rosalind_8319\n",
      "Rosalind_8418 Rosalind_4704\n",
      "Rosalind_8741 Rosalind_8367\n",
      "Rosalind_0209 Rosalind_3491\n",
      "Rosalind_2857 Rosalind_0577\n",
      "Rosalind_7431 Rosalind_9777\n",
      "Rosalind_2905 Rosalind_2463\n",
      "Rosalind_5858 Rosalind_7030\n",
      "Rosalind_9269 Rosalind_6640\n",
      "Rosalind_0972 Rosalind_5858\n",
      "Rosalind_6272 Rosalind_3372\n",
      "Rosalind_3910 Rosalind_4477\n",
      "Rosalind_3970 Rosalind_4019\n",
      "Rosalind_2583 Rosalind_8418\n",
      "Rosalind_5781 Rosalind_0763\n",
      "Rosalind_2844 Rosalind_8517\n",
      "Rosalind_6196 Rosalind_0873\n",
      "Rosalind_4052 Rosalind_0417\n",
      "Rosalind_0942 Rosalind_1908\n",
      "Rosalind_3259 Rosalind_7186\n",
      "Rosalind_0794 Rosalind_5398\n",
      "Rosalind_7186 Rosalind_9080\n",
      "Rosalind_1390 Rosalind_4267\n",
      "Rosalind_2458 Rosalind_9080\n",
      "Rosalind_1390 Rosalind_8092\n",
      "Rosalind_0873 Rosalind_6640\n",
      "Rosalind_5692 Rosalind_3539\n",
      "Rosalind_0389 Rosalind_9736\n",
      "Rosalind_0652 Rosalind_9182\n",
      "Rosalind_3713 Rosalind_5692\n",
      "Rosalind_0692 Rosalind_6889\n",
      "Rosalind_0873 Rosalind_2789\n",
      "Rosalind_6743 Rosalind_0209\n",
      "Rosalind_9777 Rosalind_8405\n",
      "Rosalind_0972 Rosalind_0417\n",
      "Rosalind_0794 Rosalind_6350\n",
      "Rosalind_8328 Rosalind_2859\n",
      "Rosalind_4019 Rosalind_0684\n",
      "Rosalind_2537 Rosalind_5398\n",
      "Rosalind_7906 Rosalind_7030\n",
      "Rosalind_8203 Rosalind_8319\n",
      "Rosalind_0577 Rosalind_9080\n",
      "Rosalind_8176 Rosalind_2533\n",
      "Rosalind_0873 Rosalind_8802\n",
      "Rosalind_3626 Rosalind_9777\n",
      "Rosalind_9818 Rosalind_4134\n",
      "Rosalind_1026 Rosalind_3910\n",
      "Rosalind_0684 Rosalind_0972\n",
      "Rosalind_6353 Rosalind_2537\n",
      "Rosalind_0652 Rosalind_1385\n",
      "Rosalind_2463 Rosalind_5378\n",
      "Rosalind_0577 Rosalind_0873\n",
      "Rosalind_6350 Rosalind_8131\n",
      "Rosalind_4267 Rosalind_4052\n",
      "Rosalind_2533 Rosalind_7431\n",
      "Rosalind_0389 Rosalind_8131\n",
      "Rosalind_2803 Rosalind_1050\n",
      "Rosalind_0389 Rosalind_1908\n",
      "Rosalind_2859 Rosalind_7186\n",
      "Rosalind_6640 Rosalind_8405\n",
      "Rosalind_3372 Rosalind_5650\n",
      "Rosalind_1385 Rosalind_5378\n",
      "Rosalind_7186 Rosalind_2458\n",
      "Rosalind_2905 Rosalind_7854\n",
      "Rosalind_9182 Rosalind_0972\n",
      "Rosalind_5398 Rosalind_1405\n",
      "Rosalind_6353 Rosalind_5858\n",
      "Rosalind_0763 Rosalind_6353\n",
      "Rosalind_1050 Rosalind_9182\n",
      "Rosalind_2458 Rosalind_0873\n",
      "Rosalind_9182 Rosalind_3372\n",
      "Rosalind_5650 Rosalind_0812\n",
      "Rosalind_7190 Rosalind_5398\n",
      "Rosalind_0972 Rosalind_0652\n",
      "Rosalind_6196 Rosalind_9080\n",
      "Rosalind_7854 Rosalind_3970\n",
      "Rosalind_8741 Rosalind_2533\n",
      "Rosalind_2537 Rosalind_6350\n",
      "Rosalind_4052 Rosalind_5858\n",
      "Rosalind_0942 Rosalind_8131\n",
      "Rosalind_3065 Rosalind_7030\n",
      "Rosalind_8679 Rosalind_3910\n",
      "Rosalind_2583 Rosalind_0209\n",
      "Rosalind_7186 Rosalind_0873\n"
     ]
    }
   ],
   "source": [
    "import sys\n",
    "f= open('D://datasets/rosalind_grph.txt')\n",
    "s=f.read()\n",
    "stream= sys.stdout\n",
    "lines= s.strip().split(\">\")[1::]\n",
    "genes = [ (g[:g.find(\"\\n\"):],g[g.find(\"\\n\")+1::].replace(\"\\n\",\"\")) for g in lines]\n",
    "edges =set()\n",
    "k=3\n",
    "for i in range(0,len(genes)):\n",
    "    for j in range(0,len(genes)):\n",
    "        if((i!=j) and genes[i][1][0:k]==genes[j][1][-k:]):\n",
    "            edges.add(genes[j][0] + \" \" + genes[i][0])\n",
    "print(\"\\n\".join([n for n in edges]))            \n",
    "\n",
    "        \n",
    "\n",
    "    "
   ]
  },
  {
   "cell_type": "markdown",
   "metadata": {},
   "source": [
    "## Calculating Expected Offspring\n",
    "### Problem\n",
    "<p>For a <a class=\"term\" href=\"/glossary/random-variable/\" id=\"term-647\" rel=\"tooltip\" title=\"\n",
    "A variable that can take different values based on a randomized process.\">random variable</a> <mathjax>$X$</mathjax> taking integer values between 1 and <mathjax>$n$</mathjax>,\n",
    "the <a class=\"term new\" href=\"/glossary/expected-value/\" id=\"term-403\" rel=\"tooltip\" title=\"New term: \n",
    "The average case of a random variable over time.\">expected value</a> of <mathjax>$X$</mathjax> is <mathjax>$\\mathrm{E}(X) = \\sum_{k=1}^{n}{k \\times \\mathrm{Pr}(X = k)}$</mathjax>.\n",
    "The expected value offers us a way of taking the long-term average of a random variable\n",
    "over a large number of trials.</p>\n",
    "<p>As a motivating example, let <mathjax>$X$</mathjax> be the number on a six-sided die.  Over a large number of rolls, we should\n",
    "expect to obtain an average of 3.5 on the die (even though it's not possible to roll a 3.5).\n",
    "The formula for expected value confirms that <mathjax>$\\mathrm{E}(X) = \\sum_{k=1}^{6} k \\times \\mathrm{Pr}(X = k) = 3.5$</mathjax>.</p>\n",
    "<p>More generally, a random variable\n",
    "for which every one of a number of equally spaced outcomes has the same probability\n",
    "is called a <a class=\"term new\" href=\"/glossary/uniform-random-variable/\" id=\"term-662\" rel=\"tooltip\" title=\"New term: \n",
    "A random variable in which equally spaced outcomes have the same probability.\">uniform random variable</a> (in the die example, this \"equal spacing\" is equal to 1).\n",
    "We can generalize our die example to find that if <mathjax>$X$</mathjax> is a uniform random variable with\n",
    "minimum possible value <mathjax>$a$</mathjax> and maximum possible value <mathjax>$b$</mathjax>, then <mathjax>$\\mathrm{E}(X) = \\frac{a+b}{2}$</mathjax>.\n",
    "You may also wish to verify that for the dice example, if <mathjax>$Y$</mathjax> is the random\n",
    "variable associated with the outcome of a second die roll, then <mathjax>$\\mathrm{E}(X+Y) = 7$</mathjax>.</p>\n",
    "<p><b>Given:</b> Six nonnegative integers, each of which does not exceed 20,000.\n",
    "The integers correspond to the number of couples in a population possessing each <a class=\"term\" href=\"/glossary/genotype/\" id=\"term-595\" rel=\"tooltip\" title=\"\n",
    "An organism's precise genetic makeup.\">genotype</a> pairing for a given <a class=\"term\" href=\"/glossary/factor/\" id=\"term-640\" rel=\"tooltip\" title=\"\n",
    "The Mendelian unit of heredity.\">factor</a>.\n",
    "In order, the six given integers represent the number of couples having the following genotypes:</p>\n",
    "<ol>\n",
    "<li>AA-AA</li>\n",
    "<li>AA-Aa</li>\n",
    "<li>AA-aa</li>\n",
    "<li>Aa-Aa</li>\n",
    "<li>Aa-aa</li>\n",
    "<li>aa-aa</li>\n",
    "</ol>\n",
    "<p><b>Return:</b> The expected number of offspring displaying the dominant phenotype in the next\n",
    "generation, under the assumption that every couple has exactly two offspring.</p>\n",
    "\n",
    "### Sample Dataset\n",
    ">1 0 0 1 0 1\n",
    "### Sample Output\n",
    ">3.5\n"
   ]
  },
  {
   "cell_type": "code",
   "execution_count": 140,
   "metadata": {},
   "outputs": [
    {
     "name": "stdout",
     "output_type": "stream",
     "text": [
      "157327.5\n"
     ]
    }
   ],
   "source": [
    "#phenotypes: a=1, A=0, AA-AA = 0, Aa-Aa=0101b=5\n",
    "pheno_prob = [\n",
    "    1, # AAAA\n",
    "    1, # AAAa\n",
    "    1, # AAaa\n",
    "    0.75, # AaAa\n",
    "    0.5, #Aaaa\n",
    "    0   #aaaa \n",
    "]\n",
    "import sys\n",
    "f= open('D://datasets/rosalind_iev.txt')\n",
    "s=f.read()\n",
    "stream= sys.stdout\n",
    "n_pairs=list(map(int,s.split(\" \")))\n",
    "n_ofsp= 2\n",
    "expected=0\n",
    "for i in range(0,len(n_pairs)):\n",
    "    expected += pheno_prob[i]*(n_pairs[i]*n_ofsp)\n",
    "print(expected)"
   ]
  },
  {
   "cell_type": "markdown",
   "metadata": {},
   "source": [
    "## Finding a Shared Motif\n",
    "\n",
    "### Problem\n",
    "<p>A <a class=\"term new\" href=\"/glossary/common-substring/\" id=\"term-300\" rel=\"tooltip\" title=\"New term: \n",
    "A substring contained in all strings from a collection.\">common substring</a> of a collection of strings is a <a class=\"term\" href=\"/glossary/substring/\" id=\"term-234\" rel=\"tooltip\" title=\"\n",
    "A substring of a given string is a contiguous string of symbols found in the string.\">substring</a> of every\n",
    "member of the collection.  We say that a common substring is a <a class=\"term new\" href=\"/glossary/longest-common-substring/\" id=\"term-301\" rel=\"tooltip\" title=\"New term: \n",
    "A common substring of a collection of maximum length.\">longest common substring</a>\n",
    "if there does not exist a longer common substring.  For example, \"CG\" is\n",
    "a common substring of \"A<strong>CG</strong>TACGT\" and \"AAC<strong>CG</strong>TATA\", but it is not as long as possible;\n",
    "in this case, \"CGTA\" is a longest common substring of \"A<strong>CGTA</strong>CGT\" and \"AAC<strong>CGTA</strong>TA\".</p>\n",
    "<p>Note that the longest common substring is not necessarily unique; for a simple example, \"AA\" and \"CC\"\n",
    "are both longest common substrings of \"AACC\" and \"CCAA\".</p>\n",
    "<p><b>Given:</b> A collection of <mathjax>$k$</mathjax> (<mathjax>$k \\leq 100$</mathjax>) <a class=\"term\" href=\"/glossary/dna-string/\" id=\"term-349\" rel=\"tooltip\" title=\"\n",
    "A string constructed from the alphabet {A, C, G, T}.\">DNA strings</a> of length at most 1 <a class=\"term\" href=\"/glossary/kbp/\" id=\"term-394\" rel=\"tooltip\" title=\"\n",
    "1 kbp = 1000 base pairs\">kbp</a> each in\n",
    "<a class=\"term\" href=\"/glossary/fasta-format/\" id=\"term-759\" rel=\"tooltip\" title=\"\n",
    "A text format used for naming genetic strings in databases.\">FASTA format</a>.</p>\n",
    "<p><b>Return:</b> A longest common substring of the collection. (If multiple solutions\n",
    "exist, you may return any single solution.)</p>\n",
    "### Sample Dataset\n",
    ">Rosalind_1\n",
    "GATTACA\n",
    "\n",
    ">Rosalind_2\n",
    "TAGACCA\n",
    "\n",
    ">Rosalind_3\n",
    "ATACA\n",
    "### Sample Output\n",
    ">AC\n"
   ]
  },
  {
   "cell_type": "code",
   "execution_count": 142,
   "metadata": {},
   "outputs": [],
   "source": [
    "import difflib\n"
   ]
  },
  {
   "cell_type": "markdown",
   "metadata": {},
   "source": [
    "## Independent alleles\n",
    "### Problem\n",
    "Figure 2. The probability of each outcome for the sum of the values on two rolled dice (black and white), broken down depending on the number of pips showing on each die. You can verify that 18 of the 36 equally probable possibilities result in an odd sum.\n",
    "\n",
    "Two events A\n",
    "and B are independent if Pr(A and B) is equal to Pr(A)×Pr(B). In other words, the events do not influence each other, so that we may simply calculate each of the individual probabilities separately and then multiply.\n",
    "\n",
    "More generally, random variables X and Y are independent if whenever A and B are respective events for X and Y, A and B are independent (i.e., Pr(A and B)=Pr(A)×Pr(B)).\n",
    "\n",
    "As an example of how helpful independence can be for calculating probabilities, let X\n",
    "and Y represent the numbers showing on two six-sided dice. Intuitively, the number of pips showing on one die should not affect the number showing on the other die. If we want to find the probability that X+Y is odd, then we don't need to draw a tree diagram and consider all possibilities. We simply first note that for X+Y to be odd, either X is even and Y is odd or X is odd and Y is even. In terms of probability, Pr(X+Y is odd)=Pr(X is even and Y is odd)+Pr(X is odd and Y is even). Using independence, this becomes [Pr(X is even)×Pr(Y is odd)]+[Pr(X is odd)×Pr(Y is even)], or (12)2+(12)2=12. You can verify this result in Figure 2, which shows all 36 outcomes for rolling two dice.\n",
    "\n",
    "<b>Given</b>: Two positive integers k (k≤7) and N ($$N<=2^k$$). In this problem, we begin with Tom, who in the 0th generation has genotype Aa Bb. Tom has two children in the 1st generation, each of whom has two children, and so on. Each organism always mates with an organism having genotype Aa Bb.\n",
    "\n",
    "<b>Return:</b> The probability that at least N Aa Bb organisms will belong to the k-th generation of Tom's family tree (don't count the Aa Bb mates at each level). Assume that Mendel's second law holds for the factors\n",
    "\n",
    "### Sample Dataset\n",
    "\n",
    ">2 1\n",
    "\n",
    "### Sample Output\n",
    "\n",
    ">0.684\n"
   ]
  },
  {
   "cell_type": "code",
   "execution_count": null,
   "metadata": {},
   "outputs": [],
   "source": [
    "import sys\n",
    "f= open('D://datasets/rosalind_iprb(1).txt')\n",
    "s=f.read()\n",
    "stream= sys.stdout\n",
    "k,n=list(map(int,s.split(\" \")))\n",
    "p_1 = 0.5*0.5"
   ]
  },
  {
   "cell_type": "code",
   "execution_count": null,
   "metadata": {},
   "outputs": [],
   "source": []
  },
  {
   "cell_type": "code",
   "execution_count": 158,
   "metadata": {},
   "outputs": [
    {
     "name": "stdout",
     "output_type": "stream",
     "text": [
      "103482.34806000059\n"
     ]
    }
   ],
   "source": [
    "aa_weight=\"A   71.03711\\n\\\n",
    "C   103.00919\\n\\\n",
    "D   115.02694\\n\\\n",
    "E   129.04259\\n\\\n",
    "F   147.06841\\n\\\n",
    "G   57.02146\\n\\\n",
    "H   137.05891\\n\\\n",
    "I   113.08406\\n\\\n",
    "K   128.09496\\n\\\n",
    "L   113.08406\\n\\\n",
    "M   131.04049\\n\\\n",
    "N   114.04293\\n\\\n",
    "P   97.05276\\n\\\n",
    "Q   128.05858\\n\\\n",
    "R   156.10111\\n\\\n",
    "S   87.03203\\n\\\n",
    "T   101.04768\\n\\\n",
    "V   99.06841\\n\\\n",
    "W   186.07931\\n\\\n",
    "Y   163.06333\".split(\"\\n\")\n",
    "weight_dict=dict( [(a.split(\"   \")[0],float(a.split(\"   \")[1])) for a in aa_weight ])\n",
    "import sys\n",
    "f= open('D://datasets/rosalind_prtm.txt')\n",
    "s=f.read().replace(\"\\n\",\"\")\n",
    "stream= sys.stdout\n",
    "res =0\n",
    "for i in s:\n",
    "    res+= weight_dict[i]\n",
    "print(res)"
   ]
  },
  {
   "cell_type": "code",
   "execution_count": 157,
   "metadata": {},
   "outputs": [
    {
     "data": {
      "text/plain": [
       "'PSCMAEKKCKHHAEVDVKGMYQKWCCIAPQLYVGKQLLVYVGQFMYDNPCVDKYWPEKFCNACWIPFPIYEHVFFIASCDYMTCEDFMCEMQEVQTTESVTGNSEAVVESLSQPMCDLDCCECEMPVPGMKWACTVKRDWWNHYVWDEQILHRRNSISHSNDHENVPSDNRVSHVAQSIQNMSKNYIPHKATLGEQLSPNGRNWVILYHWYYVMPWFAHVTVSKHNHKAMPWDYQGCISTTGIIMWHFYDTNKAVKKSNTPFLYAAGYEQTGFGCFTITPSWSFTMCDKAIWIMCRMHLFKMDCSGRNLMHIDPKLQCSDHPIHNPEPIPWSLFFDHMRGLRERIMDQIQMSTEDNYPGNGPGAGHPPGFCMLGSCVKTNGAHSMQFLQCDKFCWDEKTDHCRSITLRNNARIGVNSHHTDLSDWNAPFRRAFDLDMGYAGEWLNYHRNFRLIQVNVIFEAISIPNIGNPRYIRLADDKCGDTISLCGHAYCANKYYISAATRGGLYCSFVIHMNPEHMFAPANVIGQKGSLDLMDIYKHKLIVVTYHQKNDIGAYVPCIFGAFWMCNGHCFDQHPWVLRVELVSLTSNLPLYHDLYFTWLSRALNAFIWQHVIYICDWAVMFLRGATFATCGMIYKATTGTCRMVTCRAFVNDVGLHVILHACNRHVTYYLATNCKVHVLEGKWARNWAVIFYGINSVEYAWPAKCSEYCLEIRFSIKPPGQHSIKVCCFRAFRQAVWGWIWDYQDMTVNSMHVMAMRAQGLMKFYCPMHRMYCFSAKDHTMSTMVFSLTAQHEVDYINWFAFEESFCYHNCVPPSEKNCEMEHFKDATRKEEYSIEPPTCHCCNCNNDTSHDLFMPVMLIIDMKRTVLCPHCVHDQSMCYTEACIHWID\\n'"
      ]
     },
     "execution_count": 157,
     "metadata": {},
     "output_type": "execute_result"
    }
   ],
   "source": []
  },
  {
   "cell_type": "code",
   "execution_count": 174,
   "metadata": {},
   "outputs": [
    {
     "name": "stdout",
     "output_type": "stream",
     "text": [
      "76096\n"
     ]
    }
   ],
   "source": [
    "from itertools import islice\n",
    "table_str = \"UUU F      CUU L      AUU I      GUU V   \\\n",
    "             UUC F      CUC L      AUC I      GUC V   \\\n",
    "             UUA L      CUA L      AUA I      GUA V   \\\n",
    "             UUG L      CUG L      AUG M      GUG V   \\\n",
    "             UCU S      CCU P      ACU T      GCU A   \\\n",
    "             UCC S      CCC P      ACC T      GCC A   \\\n",
    "             UCA S      CCA P      ACA T      GCA A   \\\n",
    "             UCG S      CCG P      ACG T      GCG A   \\\n",
    "             UAU Y      CAU H      AAU N      GAU D   \\\n",
    "             UAC Y      CAC H      AAC N      GAC D   \\\n",
    "             UAA *   CAA Q      AAA K      GAA E   \\\n",
    "             UAG *   CAG Q      AAG K      GAG E   \\\n",
    "             UGU C      CGU R      AGU S      GGU G   \\\n",
    "             UGC C      CGC R      AGC S      GGC G   \\\n",
    "             UGA *   CGA R      AGA R      GGA G   \\\n",
    "             UGG W      CGG R      AGG R      GGG G\"\n",
    "table_list= table_str.split()\n",
    "protein_dict=dict(zip(islice(table_list, None, None, 2), islice(table_list, 1, None, 2)))\n",
    "\n",
    "resultdict = {}                                            #  результирующий словарь\n",
    "\n",
    "for key in protein_dict:                                     # пробегаем по списку словарей\n",
    "    try:\n",
    "        resultdict[protein_dict[key]] += 1        # складываем значения\n",
    "    except KeyError:                                    # если ключа еще нет - создаем\n",
    "        resultdict[protein_dict[key]] = 1  \n",
    "import sys\n",
    "f= open('D://datasets/rosalind_mrna(1).txt')\n",
    "s=f.read().replace(\"Stop\",\"*\").replace(\"\\n\",\"\")\n",
    "stream= sys.stdout\n",
    "res = 1\n",
    "for c in s:\n",
    "    try:\n",
    "        res=(res*resultdict[c])%1000000\n",
    "    except KeyError:\n",
    "        print(c)\n",
    "        res=0\n",
    "        break\n",
    "print(res*resultdict[\"*\"]%1000000)\n"
   ]
  },
  {
   "cell_type": "code",
   "execution_count": 171,
   "metadata": {},
   "outputs": [
    {
     "data": {
      "text/plain": [
       "'MALPFGMPTAPHKEFLDMKPEVERGLRIECNRYNSQMYWADQFIFKHVPSHFCLGMNTAERTHHETLAHQNMKSMELTVAVWMLSDYKQPSLMPYNNKCNWVRGKHDEIDLETYYLVCHCQMEEYGDNGWGYIDSWRHFECNMKTHSFFPSGAAEDQGQQPESMGDWFYNMVHIGESVRYIYSKQSDFEAQDCMLRENGRDRLWANINFQFPINGLISPYREWEYNIMYFAVRVHLSGNPLAIGWVTIHAYDCHGMPCPRWMSSYGLENCAAGRKEWIISKFNHRTRSDGWTWWWFSTFKQELARRCELSPIWIQCHDNYPPNIYIIHYRFSVEALFHVGASKICTCDSAVHYYWDHKTFITKTDSCPQPRSLERIGICVQANLDVPEDLPIFAAQNLYAQSEYTNFDCRCALCQDAAGPPSTWPSCYEIFDWFGNMMAVKWYADATRRIWKKHYMPMNGCCAMNLRWAMFRNCFRNSQRTPEHWFRMDTEFNPMNEMLCERCAGALRFKILESFNAEWREQGLCDDGDVTTKHDVRPQTMARTDWGCLNAIKDKNWQEGFRAIFADTIEWYRQWSECEVYVHPASAFGGRITYWKIESLNHNTEVDHIQLPSIYPVDWPINFVMEPRIDGVSLGWAWPMRLWNVTMWARQWWALWSEAFCHFDQICWRMVEPDRYQIKLFFKAIMGTITGGPPWRQGNTNTVIFTMGSDFVLQMRDWCFNKWGEPAIECLWDWNQCAKVDLGKCKEEPHLFDIGICKFRVQRQVWPWELLNRPQYTYYEYCDRAVALNLDWYQMVAHSRLATDEYIGIVPKQWMCYMDLDMKYGRANAGHRNFDYCWDMGKHYNMYNKHWHTPRQPDCNKMFNVNWCIAVQEQQTKQSNNRMTADESKRVGSMGRDKQQCFAFMVNMYQPNNWDVHEKFHCDRVNFTPPSWPFKHRCWDHKCFRCAWNNERHLGMPGRHTDICYYDNHRHFGWWKGTMMRIMCVDDCQLKLRAALYIP\\n'"
      ]
     },
     "execution_count": 171,
     "metadata": {},
     "output_type": "execute_result"
    }
   ],
   "source": [
    "s"
   ]
  },
  {
   "cell_type": "code",
   "execution_count": null,
   "metadata": {},
   "outputs": [],
   "source": []
  }
 ],
 "metadata": {
  "kernelspec": {
   "display_name": "Python 3",
   "language": "python",
   "name": "python3"
  },
  "language_info": {
   "codemirror_mode": {
    "name": "ipython",
    "version": 3
   },
   "file_extension": ".py",
   "mimetype": "text/x-python",
   "name": "python",
   "nbconvert_exporter": "python",
   "pygments_lexer": "ipython3",
   "version": "3.7.1"
  }
 },
 "nbformat": 4,
 "nbformat_minor": 2
}
