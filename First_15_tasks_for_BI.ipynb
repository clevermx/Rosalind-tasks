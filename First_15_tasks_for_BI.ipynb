{
 "cells": [
  {
   "cell_type": "markdown",
   "metadata": {},
   "source": [
    "Counting DNA Nucleotides\n",
    "\n",
    "Problem\n",
    "\n",
    "A string is simply an ordered collection of symbols selected from some alphabet and formed into a word; the length of a string is the number of symbols that it contains.\n",
    "\n",
    "An example of a length 21 DNA string (whose alphabet contains the symbols 'A', 'C', 'G', and 'T') is \"ATGCTTCAGAAAGGTCTTACG.\"\n",
    "\n",
    "Given: A DNA string s of length at most 1000 nt.\n",
    "\n",
    "Return: Four integers (separated by spaces) counting the respective number of times that the symbols 'A', 'C', 'G', and 'T' occur in s."
   ]
  },
  {
   "cell_type": "code",
   "execution_count": 30,
   "metadata": {},
   "outputs": [
    {
     "name": "stdout",
     "output_type": "stream",
     "text": [
      "234 245 222 242\n"
     ]
    }
   ],
   "source": [
    "import sys\n",
    "f= open('D://datasets/rosalind_dna(2).txt')\n",
    "s=f.read().lower()\n",
    "stream= sys.stdout\n",
    "res =\" \".join([str(s.count(a)) for a in ['a','c','g','t']])\n",
    "print(res,file=stream)"
   ]
  },
  {
   "cell_type": "markdown",
   "metadata": {},
   "source": [
    "Transcribing DNA into RNA\n",
    "Problem\n",
    "\n",
    "An RNA string is a string formed from the alphabet containing 'A', 'C', 'G', and 'U'.\n",
    "\n",
    "Given a DNA string t corresponding to a coding strand, its transcribed RNA string u is formed by replacing all occurrences of 'T' in t with 'U' in u.\n",
    "\n",
    "Given: A DNA string t having length at most 1000 nt.\n",
    "\n",
    "Return: The transcribed RNA string of t.\n",
    "\n",
    "Sample Dataset\n",
    "GATGGAACTTGACTACGTAAATT\n",
    "Sample Output\n",
    "GAUGGAACUUGACUACGUAAAUU\n"
   ]
  },
  {
   "cell_type": "code",
   "execution_count": 29,
   "metadata": {},
   "outputs": [
    {
     "name": "stdout",
     "output_type": "stream",
     "text": [
      "CUGCAUCUGGCGUGAGGAGACCCUAGUAUUCGACCGAGUUAAGAUGACUCUGUCACUAUGGGGCAUGUUAGAGCAGGGAUACUGCUAUCCGACGAUCGGACCAACGGUUUGGCAGGCAGCUCCGUGGGAUCUAGGAGUAGAAUUCCGAGACUUCUCCCAAGAAUUACUGCGCACAUCGGUAGCUGGGGGACGGAUGAACGACUGUUCUAUUUGUUGAAUGCAGUGUAACGAGGUGUAUAUCGUUGAUGCGACCUCGUUCGAGUAGGCGGUAGAGGUGGAUAGUCAAGGCGAAUUCAGCCCAAGAGGGUAACCGAGUUUCCGCUCUUAAUUUGAAUUCGACGAUACCGGCAAGUACACGGUAAGAAACGAAGCGCUCUAACGGGAUGGGCUUAGCGCUGGCUGUCUAGGCCAUCAAAGUAAAACGCGCCACCUGAUAGAGAUAAGAGAUACCAACAACCAAGAACAGCGGACACUUUGCGGUUCGGCUGUGAGCUGGAUGCGAAGGUAUUAAAGGUUCGCGCCAUUGUUAAGUUCCUUCUCCUGAUUUAAAGGCGAUCAACUGCCUGUCAAUUUCGUUACCGCUCAGUGCAGAGUUAGCACGCCAGAUUGGUGUGCCAAAUGCAUGGAAAUUAACGGCUCUAGUGGGUUAGCGGGUUCGGACAUACCUCGCGAGUUACUCGGUAUCCUAAGCCUGCUGUUUUCAACCCCAUGAAGUCUUUGCACAUCCCGCUAAUCGUGCUGCUAAAUUCUAAAUAUCUCCUGUGAUUAGUUCGGCGGAGUAGUCCUCCACAGAACGGCUGUCUGUUUAGGACAAUCUGGGCGGUUAGUCUUAGGUUCCUAGUAGUUGAAGCCGUGCGAUGAUCUCAUCUUCAGGGCCAGGAGGUGCGAUCGGACUCCUCUCUCAUUAGAGACCCAAGCUACUUGGAAACCCCGACUGUAGAGCCC\n",
      "\n"
     ]
    }
   ],
   "source": [
    "import sys\n",
    "f= open('D://datasets/rosalind_rna.txt')\n",
    "s=f.read()\n",
    "stream= sys.stdout\n",
    "print(s.replace('T','U'),file=stream)"
   ]
  },
  {
   "cell_type": "markdown",
   "metadata": {},
   "source": [
    "Complementing a Strand of DNA \n",
    "\n",
    "Problem\n",
    "\n",
    "In DNA strings, symbols 'A' and 'T' are complements of each other, as are 'C' and 'G'.\n",
    "\n",
    "The reverse complement of a DNA string s is the string sc formed by reversing the symbols of s, then taking the complement of each symbol (e.g., the reverse complement of \"GTCA\" is \"TGAC\").\n",
    "\n",
    "Given: A DNA string s of length at most 1000 bp.\n",
    "\n",
    "Return: The reverse complement scof s.\n",
    "\n",
    "Sample Dataset\n",
    "AAAACCCGGT\n",
    "\n",
    "Sample Output\n",
    "ACCGGGTTTT\n"
   ]
  },
  {
   "cell_type": "code",
   "execution_count": 34,
   "metadata": {},
   "outputs": [
    {
     "name": "stdout",
     "output_type": "stream",
     "text": [
      "\n",
      "CCGACGACAGCCCTAGCGGACGAAACACCGCAAAGGATAGCAGAAACTATTTGGTATAGGGAATACGCCGTCCAGTAGTGATAGCTCAGGTGTTCGAACGTAGATCTGGGCATGTCCATCCGCCAGTGCTAACTGTCGGTGAATTTGTCAGTACCGCGGTTGCTACCGTATCTTGATATGCCCTGTCACCGATGCTTAAGTCTTTGAGTATTTCCCTTTTGACGAACATTCAGTATCATCTGTTATATGGCGTCTACATATTCGAGAACGGAGTCATGACCCTTGACCGGGAATCTTGCTGACATGCGATCTCTATATGCTACTCCGGCCTACTGGTGCTTGGTTAGCGGAACCACTCTTTACCGACTGGTGTGAGAAATCAGGGGATAAGTGTTAAAGGCTCCCTATTTGGGGCCTACGCGCGGAAGAGCTGCACTCCTCCCAATACAAGGCGATCACGTCAAGGAGGGGCATATTCACGGTCCAGCAAGTGCAATGAACAACTAATTTTACGTGCCAGGATTTAGGATCTCCAATCCATTTCCGGCCGCCCCCATTTCGGTATCTGCGGGTCATGTTTACTTGACTGCCGAATAATCTGAACCCGAACGCGTACTGTCACTGGGCCCGCTGTTAATATCCCCGATAAAGACGGGAGTGGATTAAACCCTTAGGTCGCGCTCTTTACCCTTGTTAACCGATGGGTCAAGGTCCGGCGTTGGAATTGCGTCCAGGAAATTAACTATTCAGACCCAAAGAGAGAAGGTGTCTGATAGGCGTAAATGCCAGTCACTATACCACGACATTGCATGCACGTGCCGGTTTTGACAAGATCATACGGACCGCAAAATAACACTA\n"
     ]
    }
   ],
   "source": [
    "import sys\n",
    "f= open('D://datasets/rosalind_revc.txt')\n",
    "s=f.read()\n",
    "stream= sys.stdout\n",
    "s=s[::-1]\n",
    "s_a_t=s.replace('A','*').replace('T','A').replace('*','T')\n",
    "s_c_g=s_a_t.replace('C','*').replace('G','C').replace('*','G')\n",
    "#s[::-1].translate(str.maketrans('ATCG','TACG'))\n",
    "print(s_c_g,file=stream)"
   ]
  },
  {
   "cell_type": "markdown",
   "metadata": {},
   "source": [
    "Rabbits and Recurrence Relations\n",
    "Problem\n",
    "\n",
    "A sequence is an ordered collection of objects (usually numbers), which are allowed to repeat. Sequences can be finite or infinite. Two examples are the finite sequence (π,−2–√,0,π) and the infinite sequence of odd numbers (1,3,5,7,9,…). We use the notation an to represent the n-th term of a sequence.\n",
    "\n",
    "A recurrence relation is a way of defining the terms of a sequence with respect to the values of previous terms. In the case of Fibonacci's rabbits from the introduction, any given month will contain the rabbits that were alive the previous month, plus any new offspring. A key observation is that the number of offspring in any month is equal to the number of rabbits that were alive two months prior. As a result, if Fn represents the number of rabbit pairs alive after the n-th month, then we obtain the Fibonacci sequence having terms Fn that are defined by the recurrence relation Fn=Fn−1+Fn−2 (with F1=F2=1 to initiate the sequence). Although the sequence bears Fibonacci's name, it was known to Indian mathematicians over two millennia ago.\n",
    "\n",
    "When finding the n-th term of a sequence defined by a recurrence relation, we can simply use the recurrence relation to generate terms for progressively larger values of n. \n",
    "This problem introduces us to the computational technique of dynamic programming, which successively builds up solutions by using the answers to smaller cases.\n",
    "\n",
    "Given: Positive integers n≤40 and k≤5.\n",
    "\n",
    "Return: The total number of rabbit pairs that will be present after n months, if we begin with 1 pair and in each generation, every pair of reproduction-age rabbits produces a litter of k rabbit pairs (instead of only 1 pair).\n",
    "\n",
    "Sample Dataset\n",
    "5 3\n",
    "\n",
    "Sample Output\n",
    "19\n"
   ]
  },
  {
   "cell_type": "code",
   "execution_count": 58,
   "metadata": {},
   "outputs": [
    {
     "name": "stdout",
     "output_type": "stream",
     "text": [
      "2863396842201\n"
     ]
    }
   ],
   "source": [
    "import sys\n",
    "f= open('D://datasets/rosalind_fib.txt')\n",
    "s=f.read()\n",
    "stream= sys.stdout\n",
    "n,k=list(map(int,s.split(\" \")))\n",
    "mol=1\n",
    "zrel=1\n",
    "res=1\n",
    "if (n>2):\n",
    "    for i in range(3,n+1):\n",
    "        offspring = zrel*k\n",
    "        zrel=res\n",
    "        res=zrel+offspring\n",
    "print(res,file=stream)"
   ]
  },
  {
   "cell_type": "markdown",
   "metadata": {},
   "source": [
    "Computing GC Content \n",
    "\n",
    "Problem\n",
    "\n",
    "The GC-content of a DNA string is given by the percentage of symbols in the string that are 'C' or 'G'. For example, the GC-content of \"AGCTATAG\" is 37.5%. Note that the reverse complement of any DNA string has the same GC-content.\n",
    "\n",
    "DNA strings must be labeled when they are consolidated into a database. A commonly used method of string labeling is called FASTA format. In this format, the string is introduced by a line that begins with '>', followed by some labeling information. Subsequent lines contain the string itself; the first line to begin with '>' indicates the label of the next string.\n",
    "\n",
    "In Rosalind's implementation, a string in FASTA format will be labeled by the ID \"Rosalind_xxxx\", where \"xxxx\" denotes a four-digit code between 0000 and 9999.\n",
    "\n",
    "Given: At most 10 DNA strings in FASTA format (of length at most 1 kbp each).\n",
    "\n",
    "Return: The ID of the string having the highest GC-content, followed by the GC-content of that string. Rosalind allows for a default error of 0.001 in all decimal answers unless otherwise stated; please see the note on absolute error below.\n",
    "Sample Dataset\n",
    "\n",
    ">Rosalind_6404\n",
    "CCTGCGGAAGATCGGCACTAGAATAGCCAGAACCGTTTCTCTGAGGCTTCCGGCCTTCCC\n",
    "TCCCACTAATAATTCTGAGG\n",
    ">Rosalind_5959\n",
    "CCATCGGTAGCGCATCCTTAGTCCAATTAAGTCCCTATCCAGGCGCTCCGCCGAAGGTCT\n",
    "ATATCCATTTGTCAGCAGACACGC\n",
    ">Rosalind_0808\n",
    "CCACCCTCGTGGTATGGCTAGGCATTCAGGAACCGGAGAACGCTTCAGACCAGCCCGGAC\n",
    "TGGGAACCTGCGGGCAGTAGGTGGAAT\n",
    "\n",
    "Sample Output\n",
    "\n",
    "Rosalind_0808\n",
    "60.919540\n"
   ]
  },
  {
   "cell_type": "code",
   "execution_count": 85,
   "metadata": {},
   "outputs": [
    {
     "name": "stdout",
     "output_type": "stream",
     "text": [
      "Rosalind_1537\n",
      "51.16751269035533\n"
     ]
    }
   ],
   "source": [
    "import sys\n",
    "f= open('D://datasets/rosalind_gc(1).txt')\n",
    "s=f.read()\n",
    "stream= sys.stdout\n",
    "maxGC=0\n",
    "max_title=\"\"\n",
    "for line in s.strip().split(\">\")[1::]:\n",
    "    title,gene = (line[0:len('Rosalind_6404')],line[len('Rosalind_6404')+1::].replace(\"\\n\",\"\"))\n",
    "    t=((gene.count('C')+gene.count('G'))*100)/ len(gene)\n",
    "    if t>maxGC:\n",
    "        maxGC=t\n",
    "        max_title=title\n",
    "print(max_title)\n",
    "print(maxGC)"
   ]
  },
  {
   "cell_type": "markdown",
   "metadata": {},
   "source": [
    "Counting Point Mutations\n",
    "Problem\n",
    "\n",
    "Given two strings s and t of equal length, the Hamming distance between s and t, denoted dH(s,t), is the number of corresponding symbols that differ in s and t. \n",
    "\n",
    "Given: Two DNA strings s and t of equal length (not exceeding 1 kbp).\n",
    "\n",
    "Return: The Hamming distance dH(s,t).\n",
    "Sample Dataset\n",
    ">GAGCCTACTAACGGGAT\n",
    "\n",
    ">CATCGTAATGACGGCCT\n",
    "\n",
    "Sample Output\n",
    ">7\n"
   ]
  },
  {
   "cell_type": "code",
   "execution_count": 102,
   "metadata": {},
   "outputs": [
    {
     "name": "stdout",
     "output_type": "stream",
     "text": [
      "473\n"
     ]
    }
   ],
   "source": [
    "import sys\n",
    "f= open('D://datasets/rosalind_hamm.txt')\n",
    "s=f.read()\n",
    "stream= sys.stdout\n",
    "maxGC=0\n",
    "lines =s.strip().split()\n",
    "res=sum([(lines[0][i]!=lines[1][i] )for i in range(0,len(lines[0]))])\n",
    "print(res)"
   ]
  },
  {
   "cell_type": "markdown",
   "metadata": {},
   "source": [
    "Mendel's First Law\n",
    "Problem\n",
    "\n",
    "Probability is the mathematical study of randomly occurring phenomena. We will model such a phenomenon with a random variable, which is simply a variable that can take a number of different distinct outcomes depending on the result of an underlying random process.\n",
    "\n",
    "For example, say that we have a bag containing 3 red balls and 2 blue balls. If we let X\n",
    "represent the random variable corresponding to the color of a drawn ball, then the probability of each of the two outcomes is given by Pr(X=red)=35 and Pr(X=blue)=25.\n",
    "\n",
    "Random variables can be combined to yield new random variables. Returning to the ball example, let Y\n",
    "model the color of a second ball drawn from the bag (without replacing the first ball). The probability of Y being red depends on whether the first ball was red or blue. To represent all outcomes of X and Y, we therefore use a probability tree diagram. This branching diagram represents all possible individual probabilities for X and Y, with outcomes at the endpoints (\"leaves\") of the tree. The probability of any outcome is given by the product of probabilities along the path from the beginning of the tree; see Figure 2 for an illustrative example.\n",
    "\n",
    "An event is simply a collection of outcomes. Because outcomes are distinct, the probability of an event can be written as the sum of the probabilities of its constituent outcomes. For our colored ball example, let A be the event \"Y is blue.\" Pr(A) is equal to the sum of the probabilities of two different outcomes: Pr(X=blue and Y=blue)+Pr(X=red and Y=blue), or 310+110=25\n",
    "Given: Three positive integers k, m, and n, representing a population containing k+m+n organisms: k individuals are homozygous dominant for a factor, m are heterozygous, and n are homozygous recessive.\n",
    "Return: The probability that two randomly selected mating organisms will produce an individual possessing a dominant allele (and thus displaying the dominant phenotype). Assume that any two organisms can mate.\n",
    "\n",
    "Sample Dataset\n",
    ">2 2 2\n",
    "\n",
    "Sample Output\n",
    ">0.78333\n"
   ]
  },
  {
   "cell_type": "code",
   "execution_count": 104,
   "metadata": {},
   "outputs": [
    {
     "name": "stdout",
     "output_type": "stream",
     "text": [
      "0.4\n"
     ]
    }
   ],
   "source": [
    "import sys\n",
    "f= open('D://datasets/rosalind_fib.txt')\n",
    "s=f.read()\n",
    "s=\"2 2 2\"\n",
    "stream= sys.stdout\n",
    "k,m,n=list(map(int,s.split(\" \")))\n",
    "org=k+m+n\n",
    "print((k/org) *((k-1)/(org-1)) + (k/org)*(m/(org-1))+ (k/org)*(n/(org-1))+0.5*(m/org)*(n/(org-1)))"
   ]
  },
  {
   "cell_type": "code",
   "execution_count": null,
   "metadata": {},
   "outputs": [],
   "source": []
  },
  {
   "cell_type": "code",
   "execution_count": null,
   "metadata": {},
   "outputs": [],
   "source": []
  },
  {
   "cell_type": "code",
   "execution_count": null,
   "metadata": {},
   "outputs": [],
   "source": []
  }
 ],
 "metadata": {
  "kernelspec": {
   "display_name": "Python 3",
   "language": "python",
   "name": "python3"
  },
  "language_info": {
   "codemirror_mode": {
    "name": "ipython",
    "version": 3
   },
   "file_extension": ".py",
   "mimetype": "text/x-python",
   "name": "python",
   "nbconvert_exporter": "python",
   "pygments_lexer": "ipython3",
   "version": "3.7.1"
  }
 },
 "nbformat": 4,
 "nbformat_minor": 2
}
